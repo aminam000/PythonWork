{
 "cells": [
  {
   "cell_type": "code",
   "execution_count": 8,
   "metadata": {},
   "outputs": [],
   "source": [
    "# Amina Muumin, muumi002, lab008, HW8"
   ]
  },
  {
   "cell_type": "code",
   "execution_count": 9,
   "metadata": {},
   "outputs": [],
   "source": [
    "#I emailed Professor Shana to ask if we needed to turn in both our classwork and HW8 and she told me to turn all of it in.\n",
    "#I have included the classwork in a differnt file but in the same folder because I did not want my work to get messy.\n",
    "#it is under the file labeled 'classwork' in folder 'HW8' just in case that is also being graded"
   ]
  },
  {
   "cell_type": "code",
   "execution_count": 10,
   "metadata": {},
   "outputs": [],
   "source": [
    "# we need to import the library that allows us to manipulate csv files\n",
    "import csv"
   ]
  },
  {
   "cell_type": "code",
   "execution_count": 22,
   "metadata": {},
   "outputs": [
    {
     "data": {
      "text/plain": [
       "'%.3f'"
      ]
     },
     "execution_count": 22,
     "metadata": {},
     "output_type": "execute_result"
    }
   ],
   "source": [
    "# we will be working with floats and in jupyter we can set our precision\n",
    "%precision 3"
   ]
  },
  {
   "cell_type": "code",
   "execution_count": 23,
   "metadata": {},
   "outputs": [
    {
     "name": "stdout",
     "output_type": "stream",
     "text": [
      "[16.858974358974358, 23.44017094017094]\n"
     ]
    }
   ],
   "source": [
    "# Task 1 – Worksheet\n",
    "# Purpose: Write the code that calculates the average miles per gallon (mpg) for\n",
    "# city driving and the average mpg for highway driving.\n",
    "# Output: A list with two floats will be created. The first float will be the average mpg for\n",
    "# city driving and the second the average mpg for highway driving. Your list must be the\n",
    "# final thing displayed. \n",
    "with open ('cars_mpg.csv') as f:\n",
    "    ls = f.readlines()\n",
    "    city = 0\n",
    "    highway = 0\n",
    "    for x in ls[1:]:\n",
    "        car = x.split(\",\")\n",
    "        city += int(car[8])\n",
    "        highway += int(car[9])\n",
    "    number = len(ls) - 1\n",
    "    average_cty = city/number\n",
    "    average_hwy = highway/number\n",
    "    avg_mpg = [average_cty, average_hwy]\n",
    "    print (avg_mpg)"
   ]
  },
  {
   "cell_type": "code",
   "execution_count": 14,
   "metadata": {},
   "outputs": [
    {
     "data": {
      "text/plain": [
       "{'allude',\n",
       " 'chevron',\n",
       " 'doggie',\n",
       " 'freeway',\n",
       " 'honda',\n",
       " 'hyundai',\n",
       " 'jeep',\n",
       " 'land rover',\n",
       " 'lincoln',\n",
       " 'mercury',\n",
       " 'nissan',\n",
       " 'silver',\n",
       " 'subbie',\n",
       " 'tinker',\n",
       " 'volks'}"
      ]
     },
     "execution_count": 14,
     "metadata": {},
     "output_type": "execute_result"
    }
   ],
   "source": [
    "#Task 2- Worksheet\n",
    "#Purpose: the code should shows the different types of manufacturers\n",
    "#output: a set of manufacturers\n",
    "manufacturers = set(m['manufacturer'] for m in mpg)\n",
    "manufacturers"
   ]
  },
  {
   "cell_type": "code",
   "execution_count": 15,
   "metadata": {},
   "outputs": [
    {
     "data": {
      "text/plain": [
       "[[17.611,\n",
       "  18.643,\n",
       "  15.000,\n",
       "  20.926,\n",
       "  18.077,\n",
       "  11.333,\n",
       "  11.500,\n",
       "  13.250,\n",
       "  13.135,\n",
       "  14.000,\n",
       "  13.500,\n",
       "  18.529,\n",
       "  17.000,\n",
       "  24.444,\n",
       "  19.286],\n",
       " [26.444,\n",
       "  26.857,\n",
       "  21.895,\n",
       "  29.222,\n",
       "  24.615,\n",
       "  17.000,\n",
       "  16.500,\n",
       "  18.000,\n",
       "  17.946,\n",
       "  19.360,\n",
       "  17.625,\n",
       "  24.912,\n",
       "  26.400,\n",
       "  32.556,\n",
       "  25.571]]"
      ]
     },
     "execution_count": 15,
     "metadata": {},
     "output_type": "execute_result"
    }
   ],
   "source": [
    "#Task3\n",
    "# purpose: the code should calculate the average mpg city driving and the average mpg for highway driving for each manufacturer.\n",
    "# output: a list of 2 lists\n",
    "mpg_hwy_manufacturer = []\n",
    "mpg_cty_manufacturer = []\n",
    "cty_and_hwy = []\n",
    "for h in manufacturers:\n",
    "    hwy_total = 0\n",
    "    cty_total = 0\n",
    "    count = 0\n",
    "    for rec in mpg:\n",
    "        if rec['manufacturer'] == h:\n",
    "            count+=1\n",
    "            cty_total += float(rec['cty'])\n",
    "            hwy_total += float(rec['hwy'])\n",
    "    \n",
    "    mpg_cty_manufacturer.append((cty_total/count))\n",
    "    mpg_hwy_manufacturer.append((hwy_total/count))\n",
    "cty_and_hwy.append(mpg_cty_manufacturer)\n",
    "cty_and_hwy.append(mpg_hwy_manufacturer)\n",
    "cty_and_hwy"
   ]
  },
  {
   "cell_type": "code",
   "execution_count": 16,
   "metadata": {},
   "outputs": [
    {
     "data": {
      "text/plain": [
       "[[11.333,\n",
       "  11.500,\n",
       "  13.135,\n",
       "  13.250,\n",
       "  13.500,\n",
       "  14.000,\n",
       "  15.000,\n",
       "  17.000,\n",
       "  17.611,\n",
       "  18.077,\n",
       "  18.529,\n",
       "  18.643,\n",
       "  19.286,\n",
       "  20.926,\n",
       "  24.444],\n",
       " [16.500,\n",
       "  17.000,\n",
       "  17.625,\n",
       "  17.946,\n",
       "  18.000,\n",
       "  19.360,\n",
       "  21.895,\n",
       "  24.615,\n",
       "  24.912,\n",
       "  25.571,\n",
       "  26.400,\n",
       "  26.444,\n",
       "  26.857,\n",
       "  29.222,\n",
       "  32.556]]"
      ]
     },
     "execution_count": 16,
     "metadata": {},
     "output_type": "execute_result"
    }
   ],
   "source": [
    "# Task 4 – Worksheet\n",
    "# Purpose: sorts the two lists from task 3 by the mpg \n",
    "# Output: 2 ordered lists\n",
    "for list in cty_and_hwy:\n",
    "    list.sort()\n",
    "\n",
    "cty_and_hwy"
   ]
  },
  {
   "cell_type": "code",
   "execution_count": 17,
   "metadata": {},
   "outputs": [
    {
     "data": {
      "text/html": [
       "<div>\n",
       "<style scoped>\n",
       "    .dataframe tbody tr th:only-of-type {\n",
       "        vertical-align: middle;\n",
       "    }\n",
       "\n",
       "    .dataframe tbody tr th {\n",
       "        vertical-align: top;\n",
       "    }\n",
       "\n",
       "    .dataframe thead th {\n",
       "        text-align: right;\n",
       "    }\n",
       "</style>\n",
       "<table border=\"1\" class=\"dataframe\">\n",
       "  <thead>\n",
       "    <tr style=\"text-align: right;\">\n",
       "      <th></th>\n",
       "      <th>Unnamed: 0</th>\n",
       "      <th>manufacturer</th>\n",
       "      <th>model</th>\n",
       "      <th>displ</th>\n",
       "      <th>year</th>\n",
       "      <th>cyl</th>\n",
       "      <th>trans</th>\n",
       "      <th>drv</th>\n",
       "      <th>cty</th>\n",
       "      <th>hwy</th>\n",
       "      <th>fl</th>\n",
       "      <th>class</th>\n",
       "    </tr>\n",
       "  </thead>\n",
       "  <tbody>\n",
       "    <tr>\n",
       "      <th>0</th>\n",
       "      <td>1</td>\n",
       "      <td>allude</td>\n",
       "      <td>excel</td>\n",
       "      <td>1.8</td>\n",
       "      <td>1999</td>\n",
       "      <td>4</td>\n",
       "      <td>auto(l5)</td>\n",
       "      <td>f</td>\n",
       "      <td>18</td>\n",
       "      <td>29</td>\n",
       "      <td>p</td>\n",
       "      <td>compact</td>\n",
       "    </tr>\n",
       "    <tr>\n",
       "      <th>1</th>\n",
       "      <td>2</td>\n",
       "      <td>allude</td>\n",
       "      <td>excel</td>\n",
       "      <td>1.8</td>\n",
       "      <td>1999</td>\n",
       "      <td>4</td>\n",
       "      <td>manual(m5)</td>\n",
       "      <td>f</td>\n",
       "      <td>21</td>\n",
       "      <td>29</td>\n",
       "      <td>p</td>\n",
       "      <td>compact</td>\n",
       "    </tr>\n",
       "    <tr>\n",
       "      <th>2</th>\n",
       "      <td>3</td>\n",
       "      <td>allude</td>\n",
       "      <td>excel</td>\n",
       "      <td>2.0</td>\n",
       "      <td>2008</td>\n",
       "      <td>4</td>\n",
       "      <td>manual(m6)</td>\n",
       "      <td>f</td>\n",
       "      <td>20</td>\n",
       "      <td>31</td>\n",
       "      <td>p</td>\n",
       "      <td>compact</td>\n",
       "    </tr>\n",
       "    <tr>\n",
       "      <th>3</th>\n",
       "      <td>4</td>\n",
       "      <td>allude</td>\n",
       "      <td>excel</td>\n",
       "      <td>2.0</td>\n",
       "      <td>2008</td>\n",
       "      <td>4</td>\n",
       "      <td>auto(av)</td>\n",
       "      <td>f</td>\n",
       "      <td>21</td>\n",
       "      <td>30</td>\n",
       "      <td>p</td>\n",
       "      <td>compact</td>\n",
       "    </tr>\n",
       "    <tr>\n",
       "      <th>4</th>\n",
       "      <td>5</td>\n",
       "      <td>allude</td>\n",
       "      <td>excel</td>\n",
       "      <td>2.8</td>\n",
       "      <td>1999</td>\n",
       "      <td>6</td>\n",
       "      <td>auto(l5)</td>\n",
       "      <td>f</td>\n",
       "      <td>16</td>\n",
       "      <td>26</td>\n",
       "      <td>p</td>\n",
       "      <td>compact</td>\n",
       "    </tr>\n",
       "  </tbody>\n",
       "</table>\n",
       "</div>"
      ],
      "text/plain": [
       "   Unnamed: 0 manufacturer  model  displ  year  cyl       trans drv  cty  hwy  \\\n",
       "0           1       allude  excel    1.8  1999    4    auto(l5)   f   18   29   \n",
       "1           2       allude  excel    1.8  1999    4  manual(m5)   f   21   29   \n",
       "2           3       allude  excel    2.0  2008    4  manual(m6)   f   20   31   \n",
       "3           4       allude  excel    2.0  2008    4    auto(av)   f   21   30   \n",
       "4           5       allude  excel    2.8  1999    6    auto(l5)   f   16   26   \n",
       "\n",
       "  fl    class  \n",
       "0  p  compact  \n",
       "1  p  compact  \n",
       "2  p  compact  \n",
       "3  p  compact  \n",
       "4  p  compact  "
      ]
     },
     "execution_count": 17,
     "metadata": {},
     "output_type": "execute_result"
    }
   ],
   "source": [
    "# Task 5 – Worksheet\n",
    "# Purpose: Import the cars_mpg.csv file into a pandas dataframe. \n",
    "# Output: the head of the dataframe.\n",
    "import pandas as pd\n",
    "from pandas import Series, DataFrame\n",
    "df = pd.read_csv('cars_mpg.csv')\n",
    "df.head()"
   ]
  },
  {
   "cell_type": "code",
   "execution_count": 18,
   "metadata": {},
   "outputs": [
    {
     "data": {
      "text/plain": [
       "[35, 44]"
      ]
     },
     "execution_count": 18,
     "metadata": {},
     "output_type": "execute_result"
    }
   ],
   "source": [
    "# Task 6 – Worksheet\n",
    "# Purpose: Calculate maximum for both city and highway. \n",
    "# Output: a dataframe\n",
    "import pandas as pd\n",
    "from pandas import Series, DataFrame\n",
    "x = df['cty'].max()\n",
    "y = df['hwy'].max()\n",
    "[x, y]"
   ]
  },
  {
   "cell_type": "code",
   "execution_count": 19,
   "metadata": {},
   "outputs": [
    {
     "ename": "TypeError",
     "evalue": "'list' object is not callable",
     "output_type": "error",
     "traceback": [
      "\u001b[0;31m---------------------------------------------------------------------------\u001b[0m",
      "\u001b[0;31mTypeError\u001b[0m                                 Traceback (most recent call last)",
      "\u001b[0;32m<ipython-input-19-e84d99e0dcdc>\u001b[0m in \u001b[0;36m<module>\u001b[0;34m\u001b[0m\n\u001b[1;32m     15\u001b[0m     \u001b[0mavg_mpg\u001b[0m \u001b[0;34m=\u001b[0m \u001b[0;34m[\u001b[0m\u001b[0maverage_cty\u001b[0m\u001b[0;34m,\u001b[0m \u001b[0maverage_hwy\u001b[0m\u001b[0;34m]\u001b[0m\u001b[0;34m\u001b[0m\u001b[0;34m\u001b[0m\u001b[0m\n\u001b[1;32m     16\u001b[0m \u001b[0;34m\u001b[0m\u001b[0m\n\u001b[0;32m---> 17\u001b[0;31m \u001b[0mdf\u001b[0m \u001b[0;34m=\u001b[0m \u001b[0mpd\u001b[0m\u001b[0;34m.\u001b[0m\u001b[0mDataFrame\u001b[0m\u001b[0;34m(\u001b[0m\u001b[0mindex\u001b[0m\u001b[0;34m=\u001b[0m\u001b[0;36m1\u001b[0m\u001b[0;34m,\u001b[0m \u001b[0mcolumns\u001b[0m\u001b[0;34m=\u001b[0m\u001b[0mlist\u001b[0m\u001b[0;34m(\u001b[0m\u001b[0;34m'mpg_cty mpg_highway'\u001b[0m\u001b[0;34m)\u001b[0m\u001b[0;34m)\u001b[0m\u001b[0;34m\u001b[0m\u001b[0;34m\u001b[0m\u001b[0m\n\u001b[0m\u001b[1;32m     18\u001b[0m \u001b[0;34m\u001b[0m\u001b[0m\n",
      "\u001b[0;31mTypeError\u001b[0m: 'list' object is not callable"
     ]
    }
   ],
   "source": [
    "# Task 7 – Worksheet\n",
    "# Purpose: calculates the average mpg for city driving and the average mpg for highway driving.\n",
    "# Output:  a dataframe with the column names being mpg_city and mpg_highway\n",
    "with open ('cars_mpg.csv') as f:\n",
    "    ls = f.readlines()\n",
    "    city = 0\n",
    "    highway = 0\n",
    "    for x in ls[1:]:\n",
    "        car = x.split(\",\")\n",
    "        city += int(car[8])\n",
    "        highway += int(car[9])\n",
    "    number = len(ls) - 1\n",
    "    average_cty = city/number\n",
    "    average_hwy = highway/number\n",
    "    avg_mpg = [average_cty, average_hwy]\n",
    "\n",
    "df = pd.DataFrame(index=1, columns=list('mpg_cty mpg_highway'))\n",
    "\n"
   ]
  },
  {
   "cell_type": "code",
   "execution_count": 20,
   "metadata": {},
   "outputs": [
    {
     "data": {
      "text/plain": [
       "<matplotlib.axes._subplots.AxesSubplot at 0x118f8e290>"
      ]
     },
     "execution_count": 20,
     "metadata": {},
     "output_type": "execute_result"
    },
    {
     "data": {
      "image/png": "[encoded data removed]",
      "text/plain": [
       "<Figure size 432x288 with 1 Axes>"
      ]
     },
     "metadata": {
      "needs_background": "light"
     },
     "output_type": "display_data"
    }
   ],
   "source": [
    "import matplotlib.pyplot as plt\n",
    "df['hwy'].plot.bar()\n"
   ]
  },
  {
   "cell_type": "code",
   "execution_count": null,
   "metadata": {},
   "outputs": [],
   "source": []
  }
 ],
 "metadata": {
  "kernelspec": {
   "display_name": "Python 3",
   "language": "python",
   "name": "python3"
  },
  "language_info": {
   "codemirror_mode": {
    "name": "ipython",
    "version": 3
   },
   "file_extension": ".py",
   "mimetype": "text/x-python",
   "name": "python",
   "nbconvert_exporter": "python",
   "pygments_lexer": "ipython3",
   "version": "3.7.6"
  }
 },
 "nbformat": 4,
 "nbformat_minor": 4
}
