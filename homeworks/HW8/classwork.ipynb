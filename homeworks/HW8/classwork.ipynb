{
 "cells": [
  {
   "cell_type": "code",
   "execution_count": null,
   "metadata": {},
   "outputs": [],
   "source": [
    "#This is my file with the work we did in class."
   ]
  },
  {
   "cell_type": "code",
   "execution_count": 121,
   "metadata": {},
   "outputs": [],
   "source": [
    "# we need to import the library that allows us to manipulate csv files\n",
    "import csv"
   ]
  },
  {
   "cell_type": "code",
   "execution_count": 75,
   "metadata": {},
   "outputs": [
    {
     "data": {
      "text/plain": [
       "'%.3f'"
      ]
     },
     "execution_count": 75,
     "metadata": {},
     "output_type": "execute_result"
    }
   ],
   "source": [
    "# we will be working with floats and in jupyter we can set our precision\n",
    "%precision 3"
   ]
  },
  {
   "cell_type": "code",
   "execution_count": 148,
   "metadata": {},
   "outputs": [
    {
     "ename": "TypeError",
     "evalue": "'list' object is not callable",
     "output_type": "error",
     "traceback": [
      "\u001b[0;31m---------------------------------------------------------------------------\u001b[0m",
      "\u001b[0;31mTypeError\u001b[0m                                 Traceback (most recent call last)",
      "\u001b[0;32m<ipython-input-148-492bccba0acf>\u001b[0m in \u001b[0;36m<module>\u001b[0;34m\u001b[0m\n\u001b[1;32m      3\u001b[0m \u001b[0;31m# row to an OrderedDict whose keys are given by the optional fieldnames parmeters\u001b[0m\u001b[0;34m\u001b[0m\u001b[0;34m\u001b[0m\u001b[0;34m\u001b[0m\u001b[0m\n\u001b[1;32m      4\u001b[0m \u001b[0;32mwith\u001b[0m \u001b[0mopen\u001b[0m \u001b[0;34m(\u001b[0m\u001b[0;34m'cars_mpg.csv'\u001b[0m\u001b[0;34m)\u001b[0m \u001b[0;32mas\u001b[0m \u001b[0mg\u001b[0m\u001b[0;34m:\u001b[0m\u001b[0;34m\u001b[0m\u001b[0;34m\u001b[0m\u001b[0m\n\u001b[0;32m----> 5\u001b[0;31m     \u001b[0mmpg\u001b[0m \u001b[0;34m=\u001b[0m \u001b[0mlist\u001b[0m\u001b[0;34m(\u001b[0m\u001b[0mcsv\u001b[0m\u001b[0;34m.\u001b[0m\u001b[0mDictReader\u001b[0m\u001b[0;34m(\u001b[0m\u001b[0mg\u001b[0m\u001b[0;34m)\u001b[0m\u001b[0;34m)\u001b[0m\u001b[0;34m\u001b[0m\u001b[0;34m\u001b[0m\u001b[0m\n\u001b[0m\u001b[1;32m      6\u001b[0m \u001b[0;31m# question: what did we create?\u001b[0m\u001b[0;34m\u001b[0m\u001b[0;34m\u001b[0m\u001b[0;34m\u001b[0m\u001b[0m\n\u001b[1;32m      7\u001b[0m \u001b[0;31m# look at the types\u001b[0m\u001b[0;34m\u001b[0m\u001b[0;34m\u001b[0m\u001b[0;34m\u001b[0m\u001b[0m\n",
      "\u001b[0;31mTypeError\u001b[0m: 'list' object is not callable"
     ]
    }
   ],
   "source": [
    "# open the file and provide a fie handler variable\n",
    "# the csv.DictReader function creates an object that operates like a reguar reader but maps the informatio\n",
    "# row to an OrderedDict whose keys are given by the optional fieldnames parmeters \n",
    "with open ('cars_mpg.csv') as g:\n",
    "    mpg = list(csv.DictReader(f))\n",
    "# question: what did we create?\n",
    "# look at the types\n",
    "print(len(mpg))\n",
    "mpg[0:2] "
   ]
  },
  {
   "cell_type": "code",
   "execution_count": 147,
   "metadata": {},
   "outputs": [
    {
     "name": "stdout",
     "output_type": "stream",
     "text": [
      "[OrderedDict([('', '1'), ('manufacturer', 'allude'), ('model', 'excel'), ('displ', '1.8'), ('year', '1999'), ('cyl', '4'), ('trans', 'auto(l5)'), ('drv', 'f'), ('cty', '18'), ('hwy', '29'), ('fl', 'p'), ('class', 'compact')]), OrderedDict([('', '2'), ('manufacturer', 'allude'), ('model', 'excel'), ('displ', '1.8'), ('year', '1999'), ('cyl', '4'), ('trans', 'manual(m5)'), ('drv', 'f'), ('cty', '21'), ('hwy', '29'), ('fl', 'p'), ('class', 'compact')]), OrderedDict([('', '3'), ('manufacturer', 'allude'), ('model', 'excel'), ('displ', '2'), ('year', '2008'), ('cyl', '4'), ('trans', 'manual(m6)'), ('drv', 'f'), ('cty', '20'), ('hwy', '31'), ('fl', 'p'), ('class', 'compact')]), OrderedDict([('', '4'), ('manufacturer', 'allude'), ('model', 'excel'), ('displ', '2'), ('year', '2008'), ('cyl', '4'), ('trans', 'auto(av)'), ('drv', 'f'), ('cty', '21'), ('hwy', '30'), ('fl', 'p'), ('class', 'compact')]), OrderedDict([('', '5'), ('manufacturer', 'allude'), ('model', 'excel'), ('displ', '2.8'), ('year', '1999'), ('cyl', '6'), ('trans', 'auto(l5)'), ('drv', 'f'), ('cty', '16'), ('hwy', '26'), ('fl', 'p'), ('class', 'compact')]), OrderedDict([('', '6'), ('manufacturer', 'allude'), ('model', 'excel'), ('displ', '2.8'), ('year', '1999'), ('cyl', '6'), ('trans', 'manual(m5)'), ('drv', 'f'), ('cty', '18'), ('hwy', '26'), ('fl', 'p'), ('class', 'compact')]), OrderedDict([('', '7'), ('manufacturer', 'allude'), ('model', 'excel'), ('displ', '3.1'), ('year', '2008'), ('cyl', '6'), ('trans', 'auto(av)'), ('drv', 'f'), ('cty', '18'), ('hwy', '27'), ('fl', 'p'), ('class', 'compact')]), OrderedDict([('', '8'), ('manufacturer', 'allude'), ('model', 'excel finesse'), ('displ', '1.8'), ('year', '1999'), ('cyl', '4'), ('trans', 'manual(m5)'), ('drv', '4'), ('cty', '18'), ('hwy', '26'), ('fl', 'p'), ('class', 'compact')]), OrderedDict([('', '9'), ('manufacturer', 'allude'), ('model', 'excel finesse'), ('displ', '1.8'), ('year', '1999'), ('cyl', '4'), ('trans', 'auto(l5)'), ('drv', '4'), ('cty', '16'), ('hwy', '25'), ('fl', 'p'), ('class', 'compact')]), OrderedDict([('', '10'), ('manufacturer', 'allude'), ('model', 'excel finesse'), ('displ', '2'), ('year', '2008'), ('cyl', '4'), ('trans', 'manual(m6)'), ('drv', '4'), ('cty', '20'), ('hwy', '28'), ('fl', 'p'), ('class', 'compact')]), OrderedDict([('', '11'), ('manufacturer', 'allude'), ('model', 'excel finesse'), ('displ', '2'), ('year', '2008'), ('cyl', '4'), ('trans', 'auto(s6)'), ('drv', '4'), ('cty', '19'), ('hwy', '27'), ('fl', 'p'), ('class', 'compact')]), OrderedDict([('', '12'), ('manufacturer', 'allude'), ('model', 'excel finesse'), ('displ', '2.8'), ('year', '1999'), ('cyl', '6'), ('trans', 'auto(l5)'), ('drv', '4'), ('cty', '15'), ('hwy', '25'), ('fl', 'p'), ('class', 'compact')]), OrderedDict([('', '13'), ('manufacturer', 'allude'), ('model', 'excel finesse'), ('displ', '2.8'), ('year', '1999'), ('cyl', '6'), ('trans', 'manual(m5)'), ('drv', '4'), ('cty', '17'), ('hwy', '25'), ('fl', 'p'), ('class', 'compact')]), OrderedDict([('', '14'), ('manufacturer', 'allude'), ('model', 'excel finesse'), ('displ', '3.1'), ('year', '2008'), ('cyl', '6'), ('trans', 'auto(s6)'), ('drv', '4'), ('cty', '17'), ('hwy', '25'), ('fl', 'p'), ('class', 'compact')]), OrderedDict([('', '15'), ('manufacturer', 'allude'), ('model', 'excel finesse'), ('displ', '3.1'), ('year', '2008'), ('cyl', '6'), ('trans', 'manual(m6)'), ('drv', '4'), ('cty', '15'), ('hwy', '25'), ('fl', 'p'), ('class', 'compact')]), OrderedDict([('', '16'), ('manufacturer', 'allude'), ('model', 'a6 finesse'), ('displ', '2.8'), ('year', '1999'), ('cyl', '6'), ('trans', 'auto(l5)'), ('drv', '4'), ('cty', '15'), ('hwy', '24'), ('fl', 'p'), ('class', 'midsize')]), OrderedDict([('', '17'), ('manufacturer', 'allude'), ('model', 'a6 finesse'), ('displ', '3.1'), ('year', '2008'), ('cyl', '6'), ('trans', 'auto(s6)'), ('drv', '4'), ('cty', '17'), ('hwy', '25'), ('fl', 'p'), ('class', 'midsize')]), OrderedDict([('', '18'), ('manufacturer', 'allude'), ('model', 'a6 finesse'), ('displ', '4.2'), ('year', '2008'), ('cyl', '8'), ('trans', 'auto(s6)'), ('drv', '4'), ('cty', '16'), ('hwy', '23'), ('fl', 'p'), ('class', 'midsize')]), OrderedDict([('', '19'), ('manufacturer', 'chevron'), ('model', 'm1000 suburban 2wd'), ('displ', '5.3'), ('year', '2008'), ('cyl', '8'), ('trans', 'auto(l4)'), ('drv', 'r'), ('cty', '14'), ('hwy', '20'), ('fl', 'r'), ('class', 'suv')]), OrderedDict([('', '20'), ('manufacturer', 'chevron'), ('model', 'm1000 suburban 2wd'), ('displ', '5.3'), ('year', '2008'), ('cyl', '8'), ('trans', 'auto(l4)'), ('drv', 'r'), ('cty', '11'), ('hwy', '15'), ('fl', 'e'), ('class', 'suv')]), OrderedDict([('', '21'), ('manufacturer', 'chevron'), ('model', 'm1000 suburban 2wd'), ('displ', '5.3'), ('year', '2008'), ('cyl', '8'), ('trans', 'auto(l4)'), ('drv', 'r'), ('cty', '14'), ('hwy', '20'), ('fl', 'r'), ('class', 'suv')]), OrderedDict([('', '22'), ('manufacturer', 'chevron'), ('model', 'm1000 suburban 2wd'), ('displ', '5.7'), ('year', '1999'), ('cyl', '8'), ('trans', 'auto(l4)'), ('drv', 'r'), ('cty', '13'), ('hwy', '17'), ('fl', 'r'), ('class', 'suv')]), OrderedDict([('', '23'), ('manufacturer', 'chevron'), ('model', 'm1000 suburban 2wd'), ('displ', '6'), ('year', '2008'), ('cyl', '8'), ('trans', 'auto(l4)'), ('drv', 'r'), ('cty', '12'), ('hwy', '17'), ('fl', 'r'), ('class', 'suv')]), OrderedDict([('', '24'), ('manufacturer', 'chevron'), ('model', 'corvette'), ('displ', '5.7'), ('year', '1999'), ('cyl', '8'), ('trans', 'manual(m6)'), ('drv', 'r'), ('cty', '16'), ('hwy', '26'), ('fl', 'p'), ('class', '2seater')]), OrderedDict([('', '25'), ('manufacturer', 'chevron'), ('model', 'corvette'), ('displ', '5.7'), ('year', '1999'), ('cyl', '8'), ('trans', 'auto(l4)'), ('drv', 'r'), ('cty', '15'), ('hwy', '23'), ('fl', 'p'), ('class', '2seater')]), OrderedDict([('', '26'), ('manufacturer', 'chevron'), ('model', 'corvette'), ('displ', '6.2'), ('year', '2008'), ('cyl', '8'), ('trans', 'manual(m6)'), ('drv', 'r'), ('cty', '16'), ('hwy', '26'), ('fl', 'p'), ('class', '2seater')]), OrderedDict([('', '27'), ('manufacturer', 'chevron'), ('model', 'corvette'), ('displ', '6.2'), ('year', '2008'), ('cyl', '8'), ('trans', 'auto(s6)'), ('drv', 'r'), ('cty', '15'), ('hwy', '25'), ('fl', 'p'), ('class', '2seater')]), OrderedDict([('', '28'), ('manufacturer', 'chevron'), ('model', 'corvette'), ('displ', '7'), ('year', '2008'), ('cyl', '8'), ('trans', 'manual(m6)'), ('drv', 'r'), ('cty', '15'), ('hwy', '24'), ('fl', 'p'), ('class', '2seater')]), OrderedDict([('', '29'), ('manufacturer', 'chevron'), ('model', 'k1500 tahoe 4wd'), ('displ', '5.3'), ('year', '2008'), ('cyl', '8'), ('trans', 'auto(l4)'), ('drv', '4'), ('cty', '14'), ('hwy', '19'), ('fl', 'r'), ('class', 'suv')]), OrderedDict([('', '30'), ('manufacturer', 'chevron'), ('model', 'k1500 tahoe 4wd'), ('displ', '5.3'), ('year', '2008'), ('cyl', '8'), ('trans', 'auto(l4)'), ('drv', '4'), ('cty', '11'), ('hwy', '14'), ('fl', 'e'), ('class', 'suv')]), OrderedDict([('', '31'), ('manufacturer', 'chevron'), ('model', 'k1500 tahoe 4wd'), ('displ', '5.7'), ('year', '1999'), ('cyl', '8'), ('trans', 'auto(l4)'), ('drv', '4'), ('cty', '11'), ('hwy', '15'), ('fl', 'r'), ('class', 'suv')]), OrderedDict([('', '32'), ('manufacturer', 'chevron'), ('model', 'k1500 tahoe 4wd'), ('displ', '6.5'), ('year', '1999'), ('cyl', '8'), ('trans', 'auto(l4)'), ('drv', '4'), ('cty', '14'), ('hwy', '17'), ('fl', 'd'), ('class', 'suv')]), OrderedDict([('', '33'), ('manufacturer', 'chevron'), ('model', 'malibu'), ('displ', '2.4'), ('year', '1999'), ('cyl', '4'), ('trans', 'auto(l4)'), ('drv', 'f'), ('cty', '19'), ('hwy', '27'), ('fl', 'r'), ('class', 'midsize')]), OrderedDict([('', '34'), ('manufacturer', 'chevron'), ('model', 'malibu'), ('displ', '2.4'), ('year', '2008'), ('cyl', '4'), ('trans', 'auto(l4)'), ('drv', 'f'), ('cty', '22'), ('hwy', '30'), ('fl', 'r'), ('class', 'midsize')]), OrderedDict([('', '35'), ('manufacturer', 'chevron'), ('model', 'malibu'), ('displ', '3.1'), ('year', '1999'), ('cyl', '6'), ('trans', 'auto(l4)'), ('drv', 'f'), ('cty', '18'), ('hwy', '26'), ('fl', 'r'), ('class', 'midsize')]), OrderedDict([('', '36'), ('manufacturer', 'chevron'), ('model', 'malibu'), ('displ', '3.5'), ('year', '2008'), ('cyl', '6'), ('trans', 'auto(l4)'), ('drv', 'f'), ('cty', '18'), ('hwy', '29'), ('fl', 'r'), ('class', 'midsize')]), OrderedDict([('', '37'), ('manufacturer', 'chevron'), ('model', 'malibu'), ('displ', '3.6'), ('year', '2008'), ('cyl', '6'), ('trans', 'auto(s6)'), ('drv', 'f'), ('cty', '17'), ('hwy', '26'), ('fl', 'r'), ('class', 'midsize')]), OrderedDict([('', '38'), ('manufacturer', 'doggie'), ('model', 'caravan 2wd'), ('displ', '2.4'), ('year', '1999'), ('cyl', '4'), ('trans', 'auto(l3)'), ('drv', 'f'), ('cty', '18'), ('hwy', '24'), ('fl', 'r'), ('class', 'minivan')]), OrderedDict([('', '39'), ('manufacturer', 'doggie'), ('model', 'caravan 2wd'), ('displ', '3'), ('year', '1999'), ('cyl', '6'), ('trans', 'auto(l4)'), ('drv', 'f'), ('cty', '17'), ('hwy', '24'), ('fl', 'r'), ('class', 'minivan')]), OrderedDict([('', '40'), ('manufacturer', 'doggie'), ('model', 'caravan 2wd'), ('displ', '3.3'), ('year', '1999'), ('cyl', '6'), ('trans', 'auto(l4)'), ('drv', 'f'), ('cty', '16'), ('hwy', '22'), ('fl', 'r'), ('class', 'minivan')]), OrderedDict([('', '41'), ('manufacturer', 'doggie'), ('model', 'caravan 2wd'), ('displ', '3.3'), ('year', '1999'), ('cyl', '6'), ('trans', 'auto(l4)'), ('drv', 'f'), ('cty', '16'), ('hwy', '22'), ('fl', 'r'), ('class', 'minivan')]), OrderedDict([('', '42'), ('manufacturer', 'doggie'), ('model', 'caravan 2wd'), ('displ', '3.3'), ('year', '2008'), ('cyl', '6'), ('trans', 'auto(l4)'), ('drv', 'f'), ('cty', '17'), ('hwy', '24'), ('fl', 'r'), ('class', 'minivan')]), OrderedDict([('', '43'), ('manufacturer', 'doggie'), ('model', 'caravan 2wd'), ('displ', '3.3'), ('year', '2008'), ('cyl', '6'), ('trans', 'auto(l4)'), ('drv', 'f'), ('cty', '17'), ('hwy', '24'), ('fl', 'r'), ('class', 'minivan')]), OrderedDict([('', '44'), ('manufacturer', 'doggie'), ('model', 'caravan 2wd'), ('displ', '3.3'), ('year', '2008'), ('cyl', '6'), ('trans', 'auto(l4)'), ('drv', 'f'), ('cty', '11'), ('hwy', '17'), ('fl', 'e'), ('class', 'minivan')]), OrderedDict([('', '45'), ('manufacturer', 'doggie'), ('model', 'caravan 2wd'), ('displ', '3.8'), ('year', '1999'), ('cyl', '6'), ('trans', 'auto(l4)'), ('drv', 'f'), ('cty', '15'), ('hwy', '22'), ('fl', 'r'), ('class', 'minivan')]), OrderedDict([('', '46'), ('manufacturer', 'doggie'), ('model', 'caravan 2wd'), ('displ', '3.8'), ('year', '1999'), ('cyl', '6'), ('trans', 'auto(l4)'), ('drv', 'f'), ('cty', '15'), ('hwy', '21'), ('fl', 'r'), ('class', 'minivan')]), OrderedDict([('', '47'), ('manufacturer', 'doggie'), ('model', 'caravan 2wd'), ('displ', '3.8'), ('year', '2008'), ('cyl', '6'), ('trans', 'auto(l6)'), ('drv', 'f'), ('cty', '16'), ('hwy', '23'), ('fl', 'r'), ('class', 'minivan')]), OrderedDict([('', '48'), ('manufacturer', 'doggie'), ('model', 'caravan 2wd'), ('displ', '4'), ('year', '2008'), ('cyl', '6'), ('trans', 'auto(l6)'), ('drv', 'f'), ('cty', '16'), ('hwy', '23'), ('fl', 'r'), ('class', 'minivan')]), OrderedDict([('', '49'), ('manufacturer', 'doggie'), ('model', 'dakota pickup 4wd'), ('displ', '3.7'), ('year', '2008'), ('cyl', '6'), ('trans', 'manual(m6)'), ('drv', '4'), ('cty', '15'), ('hwy', '19'), ('fl', 'r'), ('class', 'pickup')]), OrderedDict([('', '50'), ('manufacturer', 'doggie'), ('model', 'dakota pickup 4wd'), ('displ', '3.7'), ('year', '2008'), ('cyl', '6'), ('trans', 'auto(l4)'), ('drv', '4'), ('cty', '14'), ('hwy', '18'), ('fl', 'r'), ('class', 'pickup')]), OrderedDict([('', '51'), ('manufacturer', 'doggie'), ('model', 'dakota pickup 4wd'), ('displ', '3.9'), ('year', '1999'), ('cyl', '6'), ('trans', 'auto(l4)'), ('drv', '4'), ('cty', '13'), ('hwy', '17'), ('fl', 'r'), ('class', 'pickup')]), OrderedDict([('', '52'), ('manufacturer', 'doggie'), ('model', 'dakota pickup 4wd'), ('displ', '3.9'), ('year', '1999'), ('cyl', '6'), ('trans', 'manual(m5)'), ('drv', '4'), ('cty', '14'), ('hwy', '17'), ('fl', 'r'), ('class', 'pickup')]), OrderedDict([('', '53'), ('manufacturer', 'doggie'), ('model', 'dakota pickup 4wd'), ('displ', '4.7'), ('year', '2008'), ('cyl', '8'), ('trans', 'auto(l5)'), ('drv', '4'), ('cty', '14'), ('hwy', '19'), ('fl', 'r'), ('class', 'pickup')]), OrderedDict([('', '54'), ('manufacturer', 'doggie'), ('model', 'dakota pickup 4wd'), ('displ', '4.7'), ('year', '2008'), ('cyl', '8'), ('trans', 'auto(l5)'), ('drv', '4'), ('cty', '14'), ('hwy', '19'), ('fl', 'r'), ('class', 'pickup')]), OrderedDict([('', '55'), ('manufacturer', 'doggie'), ('model', 'dakota pickup 4wd'), ('displ', '4.7'), ('year', '2008'), ('cyl', '8'), ('trans', 'auto(l5)'), ('drv', '4'), ('cty', '9'), ('hwy', '12'), ('fl', 'e'), ('class', 'pickup')]), OrderedDict([('', '56'), ('manufacturer', 'doggie'), ('model', 'dakota pickup 4wd'), ('displ', '5.2'), ('year', '1999'), ('cyl', '8'), ('trans', 'manual(m5)'), ('drv', '4'), ('cty', '11'), ('hwy', '17'), ('fl', 'r'), ('class', 'pickup')]), OrderedDict([('', '57'), ('manufacturer', 'doggie'), ('model', 'dakota pickup 4wd'), ('displ', '5.2'), ('year', '1999'), ('cyl', '8'), ('trans', 'auto(l4)'), ('drv', '4'), ('cty', '11'), ('hwy', '15'), ('fl', 'r'), ('class', 'pickup')]), OrderedDict([('', '58'), ('manufacturer', 'doggie'), ('model', 'durango 4wd'), ('displ', '3.9'), ('year', '1999'), ('cyl', '6'), ('trans', 'auto(l4)'), ('drv', '4'), ('cty', '13'), ('hwy', '17'), ('fl', 'r'), ('class', 'suv')]), OrderedDict([('', '59'), ('manufacturer', 'doggie'), ('model', 'durango 4wd'), ('displ', '4.7'), ('year', '2008'), ('cyl', '8'), ('trans', 'auto(l5)'), ('drv', '4'), ('cty', '13'), ('hwy', '17'), ('fl', 'r'), ('class', 'suv')]), OrderedDict([('', '60'), ('manufacturer', 'doggie'), ('model', 'durango 4wd'), ('displ', '4.7'), ('year', '2008'), ('cyl', '8'), ('trans', 'auto(l5)'), ('drv', '4'), ('cty', '9'), ('hwy', '12'), ('fl', 'e'), ('class', 'suv')]), OrderedDict([('', '61'), ('manufacturer', 'doggie'), ('model', 'durango 4wd'), ('displ', '4.7'), ('year', '2008'), ('cyl', '8'), ('trans', 'auto(l5)'), ('drv', '4'), ('cty', '13'), ('hwy', '17'), ('fl', 'r'), ('class', 'suv')]), OrderedDict([('', '62'), ('manufacturer', 'doggie'), ('model', 'durango 4wd'), ('displ', '5.2'), ('year', '1999'), ('cyl', '8'), ('trans', 'auto(l4)'), ('drv', '4'), ('cty', '11'), ('hwy', '16'), ('fl', 'r'), ('class', 'suv')]), OrderedDict([('', '63'), ('manufacturer', 'doggie'), ('model', 'durango 4wd'), ('displ', '5.7'), ('year', '2008'), ('cyl', '8'), ('trans', 'auto(l5)'), ('drv', '4'), ('cty', '13'), ('hwy', '18'), ('fl', 'r'), ('class', 'suv')]), OrderedDict([('', '64'), ('manufacturer', 'doggie'), ('model', 'durango 4wd'), ('displ', '5.9'), ('year', '1999'), ('cyl', '8'), ('trans', 'auto(l4)'), ('drv', '4'), ('cty', '11'), ('hwy', '15'), ('fl', 'r'), ('class', 'suv')]), OrderedDict([('', '65'), ('manufacturer', 'doggie'), ('model', 'ram 1500 pickup 4wd'), ('displ', '4.7'), ('year', '2008'), ('cyl', '8'), ('trans', 'manual(m6)'), ('drv', '4'), ('cty', '12'), ('hwy', '16'), ('fl', 'r'), ('class', 'pickup')]), OrderedDict([('', '66'), ('manufacturer', 'doggie'), ('model', 'ram 1500 pickup 4wd'), ('displ', '4.7'), ('year', '2008'), ('cyl', '8'), ('trans', 'auto(l5)'), ('drv', '4'), ('cty', '9'), ('hwy', '12'), ('fl', 'e'), ('class', 'pickup')]), OrderedDict([('', '67'), ('manufacturer', 'doggie'), ('model', 'ram 1500 pickup 4wd'), ('displ', '4.7'), ('year', '2008'), ('cyl', '8'), ('trans', 'auto(l5)'), ('drv', '4'), ('cty', '13'), ('hwy', '17'), ('fl', 'r'), ('class', 'pickup')]), OrderedDict([('', '68'), ('manufacturer', 'doggie'), ('model', 'ram 1500 pickup 4wd'), ('displ', '4.7'), ('year', '2008'), ('cyl', '8'), ('trans', 'auto(l5)'), ('drv', '4'), ('cty', '13'), ('hwy', '17'), ('fl', 'r'), ('class', 'pickup')]), OrderedDict([('', '69'), ('manufacturer', 'doggie'), ('model', 'ram 1500 pickup 4wd'), ('displ', '4.7'), ('year', '2008'), ('cyl', '8'), ('trans', 'manual(m6)'), ('drv', '4'), ('cty', '12'), ('hwy', '16'), ('fl', 'r'), ('class', 'pickup')]), OrderedDict([('', '70'), ('manufacturer', 'doggie'), ('model', 'ram 1500 pickup 4wd'), ('displ', '4.7'), ('year', '2008'), ('cyl', '8'), ('trans', 'manual(m6)'), ('drv', '4'), ('cty', '9'), ('hwy', '12'), ('fl', 'e'), ('class', 'pickup')]), OrderedDict([('', '71'), ('manufacturer', 'doggie'), ('model', 'ram 1500 pickup 4wd'), ('displ', '5.2'), ('year', '1999'), ('cyl', '8'), ('trans', 'auto(l4)'), ('drv', '4'), ('cty', '11'), ('hwy', '15'), ('fl', 'r'), ('class', 'pickup')]), OrderedDict([('', '72'), ('manufacturer', 'doggie'), ('model', 'ram 1500 pickup 4wd'), ('displ', '5.2'), ('year', '1999'), ('cyl', '8'), ('trans', 'manual(m5)'), ('drv', '4'), ('cty', '11'), ('hwy', '16'), ('fl', 'r'), ('class', 'pickup')]), OrderedDict([('', '73'), ('manufacturer', 'doggie'), ('model', 'ram 1500 pickup 4wd'), ('displ', '5.7'), ('year', '2008'), ('cyl', '8'), ('trans', 'auto(l5)'), ('drv', '4'), ('cty', '13'), ('hwy', '17'), ('fl', 'r'), ('class', 'pickup')]), OrderedDict([('', '74'), ('manufacturer', 'doggie'), ('model', 'ram 1500 pickup 4wd'), ('displ', '5.9'), ('year', '1999'), ('cyl', '8'), ('trans', 'auto(l4)'), ('drv', '4'), ('cty', '11'), ('hwy', '15'), ('fl', 'r'), ('class', 'pickup')]), OrderedDict([('', '75'), ('manufacturer', 'freeway'), ('model', 'expedition 2wd'), ('displ', '4.6'), ('year', '1999'), ('cyl', '8'), ('trans', 'auto(l4)'), ('drv', 'r'), ('cty', '11'), ('hwy', '17'), ('fl', 'r'), ('class', 'suv')]), OrderedDict([('', '76'), ('manufacturer', 'freeway'), ('model', 'expedition 2wd'), ('displ', '5.4'), ('year', '1999'), ('cyl', '8'), ('trans', 'auto(l4)'), ('drv', 'r'), ('cty', '11'), ('hwy', '17'), ('fl', 'r'), ('class', 'suv')]), OrderedDict([('', '77'), ('manufacturer', 'freeway'), ('model', 'expedition 2wd'), ('displ', '5.4'), ('year', '2008'), ('cyl', '8'), ('trans', 'auto(l6)'), ('drv', 'r'), ('cty', '12'), ('hwy', '18'), ('fl', 'r'), ('class', 'suv')]), OrderedDict([('', '78'), ('manufacturer', 'freeway'), ('model', 'explorer 4wd'), ('displ', '4'), ('year', '1999'), ('cyl', '6'), ('trans', 'auto(l5)'), ('drv', '4'), ('cty', '14'), ('hwy', '17'), ('fl', 'r'), ('class', 'suv')]), OrderedDict([('', '79'), ('manufacturer', 'freeway'), ('model', 'explorer 4wd'), ('displ', '4'), ('year', '1999'), ('cyl', '6'), ('trans', 'manual(m5)'), ('drv', '4'), ('cty', '15'), ('hwy', '19'), ('fl', 'r'), ('class', 'suv')]), OrderedDict([('', '80'), ('manufacturer', 'freeway'), ('model', 'explorer 4wd'), ('displ', '4'), ('year', '1999'), ('cyl', '6'), ('trans', 'auto(l5)'), ('drv', '4'), ('cty', '14'), ('hwy', '17'), ('fl', 'r'), ('class', 'suv')]), OrderedDict([('', '81'), ('manufacturer', 'freeway'), ('model', 'explorer 4wd'), ('displ', '4'), ('year', '2008'), ('cyl', '6'), ('trans', 'auto(l5)'), ('drv', '4'), ('cty', '13'), ('hwy', '19'), ('fl', 'r'), ('class', 'suv')]), OrderedDict([('', '82'), ('manufacturer', 'freeway'), ('model', 'explorer 4wd'), ('displ', '4.6'), ('year', '2008'), ('cyl', '8'), ('trans', 'auto(l6)'), ('drv', '4'), ('cty', '13'), ('hwy', '19'), ('fl', 'r'), ('class', 'suv')]), OrderedDict([('', '83'), ('manufacturer', 'freeway'), ('model', 'explorer 4wd'), ('displ', '5'), ('year', '1999'), ('cyl', '8'), ('trans', 'auto(l4)'), ('drv', '4'), ('cty', '13'), ('hwy', '17'), ('fl', 'r'), ('class', 'suv')]), OrderedDict([('', '84'), ('manufacturer', 'freeway'), ('model', 'f150 pickup 4wd'), ('displ', '4.2'), ('year', '1999'), ('cyl', '6'), ('trans', 'auto(l4)'), ('drv', '4'), ('cty', '14'), ('hwy', '17'), ('fl', 'r'), ('class', 'pickup')]), OrderedDict([('', '85'), ('manufacturer', 'freeway'), ('model', 'f150 pickup 4wd'), ('displ', '4.2'), ('year', '1999'), ('cyl', '6'), ('trans', 'manual(m5)'), ('drv', '4'), ('cty', '14'), ('hwy', '17'), ('fl', 'r'), ('class', 'pickup')]), OrderedDict([('', '86'), ('manufacturer', 'freeway'), ('model', 'f150 pickup 4wd'), ('displ', '4.6'), ('year', '1999'), ('cyl', '8'), ('trans', 'manual(m5)'), ('drv', '4'), ('cty', '13'), ('hwy', '16'), ('fl', 'r'), ('class', 'pickup')]), OrderedDict([('', '87'), ('manufacturer', 'freeway'), ('model', 'f150 pickup 4wd'), ('displ', '4.6'), ('year', '1999'), ('cyl', '8'), ('trans', 'auto(l4)'), ('drv', '4'), ('cty', '13'), ('hwy', '16'), ('fl', 'r'), ('class', 'pickup')]), OrderedDict([('', '88'), ('manufacturer', 'freeway'), ('model', 'f150 pickup 4wd'), ('displ', '4.6'), ('year', '2008'), ('cyl', '8'), ('trans', 'auto(l4)'), ('drv', '4'), ('cty', '13'), ('hwy', '17'), ('fl', 'r'), ('class', 'pickup')]), OrderedDict([('', '89'), ('manufacturer', 'freeway'), ('model', 'f150 pickup 4wd'), ('displ', '5.4'), ('year', '1999'), ('cyl', '8'), ('trans', 'auto(l4)'), ('drv', '4'), ('cty', '11'), ('hwy', '15'), ('fl', 'r'), ('class', 'pickup')]), OrderedDict([('', '90'), ('manufacturer', 'freeway'), ('model', 'f150 pickup 4wd'), ('displ', '5.4'), ('year', '2008'), ('cyl', '8'), ('trans', 'auto(l4)'), ('drv', '4'), ('cty', '13'), ('hwy', '17'), ('fl', 'r'), ('class', 'pickup')]), OrderedDict([('', '91'), ('manufacturer', 'freeway'), ('model', 'mustang'), ('displ', '3.8'), ('year', '1999'), ('cyl', '6'), ('trans', 'manual(m5)'), ('drv', 'r'), ('cty', '18'), ('hwy', '26'), ('fl', 'r'), ('class', 'subcompact')]), OrderedDict([('', '92'), ('manufacturer', 'freeway'), ('model', 'mustang'), ('displ', '3.8'), ('year', '1999'), ('cyl', '6'), ('trans', 'auto(l4)'), ('drv', 'r'), ('cty', '18'), ('hwy', '25'), ('fl', 'r'), ('class', 'subcompact')]), OrderedDict([('', '93'), ('manufacturer', 'freeway'), ('model', 'mustang'), ('displ', '4'), ('year', '2008'), ('cyl', '6'), ('trans', 'manual(m5)'), ('drv', 'r'), ('cty', '17'), ('hwy', '26'), ('fl', 'r'), ('class', 'subcompact')]), OrderedDict([('', '94'), ('manufacturer', 'freeway'), ('model', 'mustang'), ('displ', '4'), ('year', '2008'), ('cyl', '6'), ('trans', 'auto(l5)'), ('drv', 'r'), ('cty', '16'), ('hwy', '24'), ('fl', 'r'), ('class', 'subcompact')]), OrderedDict([('', '95'), ('manufacturer', 'freeway'), ('model', 'mustang'), ('displ', '4.6'), ('year', '1999'), ('cyl', '8'), ('trans', 'auto(l4)'), ('drv', 'r'), ('cty', '15'), ('hwy', '21'), ('fl', 'r'), ('class', 'subcompact')]), OrderedDict([('', '96'), ('manufacturer', 'freeway'), ('model', 'mustang'), ('displ', '4.6'), ('year', '1999'), ('cyl', '8'), ('trans', 'manual(m5)'), ('drv', 'r'), ('cty', '15'), ('hwy', '22'), ('fl', 'r'), ('class', 'subcompact')]), OrderedDict([('', '97'), ('manufacturer', 'freeway'), ('model', 'mustang'), ('displ', '4.6'), ('year', '2008'), ('cyl', '8'), ('trans', 'manual(m5)'), ('drv', 'r'), ('cty', '15'), ('hwy', '23'), ('fl', 'r'), ('class', 'subcompact')]), OrderedDict([('', '98'), ('manufacturer', 'freeway'), ('model', 'mustang'), ('displ', '4.6'), ('year', '2008'), ('cyl', '8'), ('trans', 'auto(l5)'), ('drv', 'r'), ('cty', '15'), ('hwy', '22'), ('fl', 'r'), ('class', 'subcompact')]), OrderedDict([('', '99'), ('manufacturer', 'freeway'), ('model', 'mustang'), ('displ', '5.4'), ('year', '2008'), ('cyl', '8'), ('trans', 'manual(m6)'), ('drv', 'r'), ('cty', '14'), ('hwy', '20'), ('fl', 'p'), ('class', 'subcompact')]), OrderedDict([('', '100'), ('manufacturer', 'honda'), ('model', 'civic'), ('displ', '1.6'), ('year', '1999'), ('cyl', '4'), ('trans', 'manual(m5)'), ('drv', 'f'), ('cty', '28'), ('hwy', '33'), ('fl', 'r'), ('class', 'subcompact')]), OrderedDict([('', '101'), ('manufacturer', 'honda'), ('model', 'civic'), ('displ', '1.6'), ('year', '1999'), ('cyl', '4'), ('trans', 'auto(l4)'), ('drv', 'f'), ('cty', '24'), ('hwy', '32'), ('fl', 'r'), ('class', 'subcompact')]), OrderedDict([('', '102'), ('manufacturer', 'honda'), ('model', 'civic'), ('displ', '1.6'), ('year', '1999'), ('cyl', '4'), ('trans', 'manual(m5)'), ('drv', 'f'), ('cty', '25'), ('hwy', '32'), ('fl', 'r'), ('class', 'subcompact')]), OrderedDict([('', '103'), ('manufacturer', 'honda'), ('model', 'civic'), ('displ', '1.6'), ('year', '1999'), ('cyl', '4'), ('trans', 'manual(m5)'), ('drv', 'f'), ('cty', '23'), ('hwy', '29'), ('fl', 'p'), ('class', 'subcompact')]), OrderedDict([('', '104'), ('manufacturer', 'honda'), ('model', 'civic'), ('displ', '1.6'), ('year', '1999'), ('cyl', '4'), ('trans', 'auto(l4)'), ('drv', 'f'), ('cty', '24'), ('hwy', '32'), ('fl', 'r'), ('class', 'subcompact')]), OrderedDict([('', '105'), ('manufacturer', 'honda'), ('model', 'civic'), ('displ', '1.8'), ('year', '2008'), ('cyl', '4'), ('trans', 'manual(m5)'), ('drv', 'f'), ('cty', '26'), ('hwy', '34'), ('fl', 'r'), ('class', 'subcompact')]), OrderedDict([('', '106'), ('manufacturer', 'honda'), ('model', 'civic'), ('displ', '1.8'), ('year', '2008'), ('cyl', '4'), ('trans', 'auto(l5)'), ('drv', 'f'), ('cty', '25'), ('hwy', '36'), ('fl', 'r'), ('class', 'subcompact')]), OrderedDict([('', '107'), ('manufacturer', 'honda'), ('model', 'civic'), ('displ', '1.8'), ('year', '2008'), ('cyl', '4'), ('trans', 'auto(l5)'), ('drv', 'f'), ('cty', '24'), ('hwy', '36'), ('fl', 'c'), ('class', 'subcompact')]), OrderedDict([('', '108'), ('manufacturer', 'honda'), ('model', 'civic'), ('displ', '2'), ('year', '2008'), ('cyl', '4'), ('trans', 'manual(m6)'), ('drv', 'f'), ('cty', '21'), ('hwy', '29'), ('fl', 'p'), ('class', 'subcompact')]), OrderedDict([('', '109'), ('manufacturer', 'hyundai'), ('model', 'sonata'), ('displ', '2.4'), ('year', '1999'), ('cyl', '4'), ('trans', 'auto(l4)'), ('drv', 'f'), ('cty', '18'), ('hwy', '26'), ('fl', 'r'), ('class', 'midsize')]), OrderedDict([('', '110'), ('manufacturer', 'hyundai'), ('model', 'sonata'), ('displ', '2.4'), ('year', '1999'), ('cyl', '4'), ('trans', 'manual(m5)'), ('drv', 'f'), ('cty', '18'), ('hwy', '27'), ('fl', 'r'), ('class', 'midsize')]), OrderedDict([('', '111'), ('manufacturer', 'hyundai'), ('model', 'sonata'), ('displ', '2.4'), ('year', '2008'), ('cyl', '4'), ('trans', 'auto(l4)'), ('drv', 'f'), ('cty', '21'), ('hwy', '30'), ('fl', 'r'), ('class', 'midsize')]), OrderedDict([('', '112'), ('manufacturer', 'hyundai'), ('model', 'sonata'), ('displ', '2.4'), ('year', '2008'), ('cyl', '4'), ('trans', 'manual(m5)'), ('drv', 'f'), ('cty', '21'), ('hwy', '31'), ('fl', 'r'), ('class', 'midsize')]), OrderedDict([('', '113'), ('manufacturer', 'hyundai'), ('model', 'sonata'), ('displ', '2.5'), ('year', '1999'), ('cyl', '6'), ('trans', 'auto(l4)'), ('drv', 'f'), ('cty', '18'), ('hwy', '26'), ('fl', 'r'), ('class', 'midsize')]), OrderedDict([('', '114'), ('manufacturer', 'hyundai'), ('model', 'sonata'), ('displ', '2.5'), ('year', '1999'), ('cyl', '6'), ('trans', 'manual(m5)'), ('drv', 'f'), ('cty', '18'), ('hwy', '26'), ('fl', 'r'), ('class', 'midsize')]), OrderedDict([('', '115'), ('manufacturer', 'hyundai'), ('model', 'sonata'), ('displ', '3.3'), ('year', '2008'), ('cyl', '6'), ('trans', 'auto(l5)'), ('drv', 'f'), ('cty', '19'), ('hwy', '28'), ('fl', 'r'), ('class', 'midsize')]), OrderedDict([('', '116'), ('manufacturer', 'hyundai'), ('model', 'tiburon'), ('displ', '2'), ('year', '1999'), ('cyl', '4'), ('trans', 'auto(l4)'), ('drv', 'f'), ('cty', '19'), ('hwy', '26'), ('fl', 'r'), ('class', 'subcompact')]), OrderedDict([('', '117'), ('manufacturer', 'hyundai'), ('model', 'tiburon'), ('displ', '2'), ('year', '1999'), ('cyl', '4'), ('trans', 'manual(m5)'), ('drv', 'f'), ('cty', '19'), ('hwy', '29'), ('fl', 'r'), ('class', 'subcompact')]), OrderedDict([('', '118'), ('manufacturer', 'hyundai'), ('model', 'tiburon'), ('displ', '2'), ('year', '2008'), ('cyl', '4'), ('trans', 'manual(m5)'), ('drv', 'f'), ('cty', '20'), ('hwy', '28'), ('fl', 'r'), ('class', 'subcompact')]), OrderedDict([('', '119'), ('manufacturer', 'hyundai'), ('model', 'tiburon'), ('displ', '2'), ('year', '2008'), ('cyl', '4'), ('trans', 'auto(l4)'), ('drv', 'f'), ('cty', '20'), ('hwy', '27'), ('fl', 'r'), ('class', 'subcompact')]), OrderedDict([('', '120'), ('manufacturer', 'hyundai'), ('model', 'tiburon'), ('displ', '2.7'), ('year', '2008'), ('cyl', '6'), ('trans', 'auto(l4)'), ('drv', 'f'), ('cty', '17'), ('hwy', '24'), ('fl', 'r'), ('class', 'subcompact')]), OrderedDict([('', '121'), ('manufacturer', 'hyundai'), ('model', 'tiburon'), ('displ', '2.7'), ('year', '2008'), ('cyl', '6'), ('trans', 'manual(m6)'), ('drv', 'f'), ('cty', '16'), ('hwy', '24'), ('fl', 'r'), ('class', 'subcompact')]), OrderedDict([('', '122'), ('manufacturer', 'hyundai'), ('model', 'tiburon'), ('displ', '2.7'), ('year', '2008'), ('cyl', '6'), ('trans', 'manual(m5)'), ('drv', 'f'), ('cty', '17'), ('hwy', '24'), ('fl', 'r'), ('class', 'subcompact')]), OrderedDict([('', '123'), ('manufacturer', 'jeep'), ('model', 'grand cherokee 4wd'), ('displ', '3'), ('year', '2008'), ('cyl', '6'), ('trans', 'auto(l5)'), ('drv', '4'), ('cty', '17'), ('hwy', '22'), ('fl', 'd'), ('class', 'suv')]), OrderedDict([('', '124'), ('manufacturer', 'jeep'), ('model', 'grand cherokee 4wd'), ('displ', '3.7'), ('year', '2008'), ('cyl', '6'), ('trans', 'auto(l5)'), ('drv', '4'), ('cty', '15'), ('hwy', '19'), ('fl', 'r'), ('class', 'suv')]), OrderedDict([('', '125'), ('manufacturer', 'jeep'), ('model', 'grand cherokee 4wd'), ('displ', '4'), ('year', '1999'), ('cyl', '6'), ('trans', 'auto(l4)'), ('drv', '4'), ('cty', '15'), ('hwy', '20'), ('fl', 'r'), ('class', 'suv')]), OrderedDict([('', '126'), ('manufacturer', 'jeep'), ('model', 'grand cherokee 4wd'), ('displ', '4.7'), ('year', '1999'), ('cyl', '8'), ('trans', 'auto(l4)'), ('drv', '4'), ('cty', '14'), ('hwy', '17'), ('fl', 'r'), ('class', 'suv')]), OrderedDict([('', '127'), ('manufacturer', 'jeep'), ('model', 'grand cherokee 4wd'), ('displ', '4.7'), ('year', '2008'), ('cyl', '8'), ('trans', 'auto(l5)'), ('drv', '4'), ('cty', '9'), ('hwy', '12'), ('fl', 'e'), ('class', 'suv')]), OrderedDict([('', '128'), ('manufacturer', 'jeep'), ('model', 'grand cherokee 4wd'), ('displ', '4.7'), ('year', '2008'), ('cyl', '8'), ('trans', 'auto(l5)'), ('drv', '4'), ('cty', '14'), ('hwy', '19'), ('fl', 'r'), ('class', 'suv')]), OrderedDict([('', '129'), ('manufacturer', 'jeep'), ('model', 'grand cherokee 4wd'), ('displ', '5.7'), ('year', '2008'), ('cyl', '8'), ('trans', 'auto(l5)'), ('drv', '4'), ('cty', '13'), ('hwy', '18'), ('fl', 'r'), ('class', 'suv')]), OrderedDict([('', '130'), ('manufacturer', 'jeep'), ('model', 'grand cherokee 4wd'), ('displ', '6.1'), ('year', '2008'), ('cyl', '8'), ('trans', 'auto(l5)'), ('drv', '4'), ('cty', '11'), ('hwy', '14'), ('fl', 'p'), ('class', 'suv')]), OrderedDict([('', '131'), ('manufacturer', 'land rover'), ('model', 'range rover'), ('displ', '4'), ('year', '1999'), ('cyl', '8'), ('trans', 'auto(l4)'), ('drv', '4'), ('cty', '11'), ('hwy', '15'), ('fl', 'p'), ('class', 'suv')]), OrderedDict([('', '132'), ('manufacturer', 'land rover'), ('model', 'range rover'), ('displ', '4.2'), ('year', '2008'), ('cyl', '8'), ('trans', 'auto(s6)'), ('drv', '4'), ('cty', '12'), ('hwy', '18'), ('fl', 'r'), ('class', 'suv')]), OrderedDict([('', '133'), ('manufacturer', 'land rover'), ('model', 'range rover'), ('displ', '4.4'), ('year', '2008'), ('cyl', '8'), ('trans', 'auto(s6)'), ('drv', '4'), ('cty', '12'), ('hwy', '18'), ('fl', 'r'), ('class', 'suv')]), OrderedDict([('', '134'), ('manufacturer', 'land rover'), ('model', 'range rover'), ('displ', '4.6'), ('year', '1999'), ('cyl', '8'), ('trans', 'auto(l4)'), ('drv', '4'), ('cty', '11'), ('hwy', '15'), ('fl', 'p'), ('class', 'suv')]), OrderedDict([('', '135'), ('manufacturer', 'lincoln'), ('model', 'navigator 2wd'), ('displ', '5.4'), ('year', '1999'), ('cyl', '8'), ('trans', 'auto(l4)'), ('drv', 'r'), ('cty', '11'), ('hwy', '17'), ('fl', 'r'), ('class', 'suv')]), OrderedDict([('', '136'), ('manufacturer', 'lincoln'), ('model', 'navigator 2wd'), ('displ', '5.4'), ('year', '1999'), ('cyl', '8'), ('trans', 'auto(l4)'), ('drv', 'r'), ('cty', '11'), ('hwy', '16'), ('fl', 'p'), ('class', 'suv')]), OrderedDict([('', '137'), ('manufacturer', 'lincoln'), ('model', 'navigator 2wd'), ('displ', '5.4'), ('year', '2008'), ('cyl', '8'), ('trans', 'auto(l6)'), ('drv', 'r'), ('cty', '12'), ('hwy', '18'), ('fl', 'r'), ('class', 'suv')]), OrderedDict([('', '138'), ('manufacturer', 'mercury'), ('model', 'mountaineer 4wd'), ('displ', '4'), ('year', '1999'), ('cyl', '6'), ('trans', 'auto(l5)'), ('drv', '4'), ('cty', '14'), ('hwy', '17'), ('fl', 'r'), ('class', 'suv')]), OrderedDict([('', '139'), ('manufacturer', 'mercury'), ('model', 'mountaineer 4wd'), ('displ', '4'), ('year', '2008'), ('cyl', '6'), ('trans', 'auto(l5)'), ('drv', '4'), ('cty', '13'), ('hwy', '19'), ('fl', 'r'), ('class', 'suv')]), OrderedDict([('', '140'), ('manufacturer', 'mercury'), ('model', 'mountaineer 4wd'), ('displ', '4.6'), ('year', '2008'), ('cyl', '8'), ('trans', 'auto(l6)'), ('drv', '4'), ('cty', '13'), ('hwy', '19'), ('fl', 'r'), ('class', 'suv')]), OrderedDict([('', '141'), ('manufacturer', 'mercury'), ('model', 'mountaineer 4wd'), ('displ', '5'), ('year', '1999'), ('cyl', '8'), ('trans', 'auto(l4)'), ('drv', '4'), ('cty', '13'), ('hwy', '17'), ('fl', 'r'), ('class', 'suv')]), OrderedDict([('', '142'), ('manufacturer', 'nissan'), ('model', 'altima'), ('displ', '2.4'), ('year', '1999'), ('cyl', '4'), ('trans', 'manual(m5)'), ('drv', 'f'), ('cty', '21'), ('hwy', '29'), ('fl', 'r'), ('class', 'compact')]), OrderedDict([('', '143'), ('manufacturer', 'nissan'), ('model', 'altima'), ('displ', '2.4'), ('year', '1999'), ('cyl', '4'), ('trans', 'auto(l4)'), ('drv', 'f'), ('cty', '19'), ('hwy', '27'), ('fl', 'r'), ('class', 'compact')]), OrderedDict([('', '144'), ('manufacturer', 'nissan'), ('model', 'altima'), ('displ', '2.5'), ('year', '2008'), ('cyl', '4'), ('trans', 'auto(av)'), ('drv', 'f'), ('cty', '23'), ('hwy', '31'), ('fl', 'r'), ('class', 'midsize')]), OrderedDict([('', '145'), ('manufacturer', 'nissan'), ('model', 'altima'), ('displ', '2.5'), ('year', '2008'), ('cyl', '4'), ('trans', 'manual(m6)'), ('drv', 'f'), ('cty', '23'), ('hwy', '32'), ('fl', 'r'), ('class', 'midsize')]), OrderedDict([('', '146'), ('manufacturer', 'nissan'), ('model', 'altima'), ('displ', '3.5'), ('year', '2008'), ('cyl', '6'), ('trans', 'manual(m6)'), ('drv', 'f'), ('cty', '19'), ('hwy', '27'), ('fl', 'p'), ('class', 'midsize')]), OrderedDict([('', '147'), ('manufacturer', 'nissan'), ('model', 'altima'), ('displ', '3.5'), ('year', '2008'), ('cyl', '6'), ('trans', 'auto(av)'), ('drv', 'f'), ('cty', '19'), ('hwy', '26'), ('fl', 'p'), ('class', 'midsize')]), OrderedDict([('', '148'), ('manufacturer', 'nissan'), ('model', 'maxima'), ('displ', '3'), ('year', '1999'), ('cyl', '6'), ('trans', 'auto(l4)'), ('drv', 'f'), ('cty', '18'), ('hwy', '26'), ('fl', 'r'), ('class', 'midsize')]), OrderedDict([('', '149'), ('manufacturer', 'nissan'), ('model', 'maxima'), ('displ', '3'), ('year', '1999'), ('cyl', '6'), ('trans', 'manual(m5)'), ('drv', 'f'), ('cty', '19'), ('hwy', '25'), ('fl', 'r'), ('class', 'midsize')]), OrderedDict([('', '150'), ('manufacturer', 'nissan'), ('model', 'maxima'), ('displ', '3.5'), ('year', '2008'), ('cyl', '6'), ('trans', 'auto(av)'), ('drv', 'f'), ('cty', '19'), ('hwy', '25'), ('fl', 'p'), ('class', 'midsize')]), OrderedDict([('', '151'), ('manufacturer', 'nissan'), ('model', 'pathfinder 4wd'), ('displ', '3.3'), ('year', '1999'), ('cyl', '6'), ('trans', 'auto(l4)'), ('drv', '4'), ('cty', '14'), ('hwy', '17'), ('fl', 'r'), ('class', 'suv')]), OrderedDict([('', '152'), ('manufacturer', 'nissan'), ('model', 'pathfinder 4wd'), ('displ', '3.3'), ('year', '1999'), ('cyl', '6'), ('trans', 'manual(m5)'), ('drv', '4'), ('cty', '15'), ('hwy', '17'), ('fl', 'r'), ('class', 'suv')]), OrderedDict([('', '153'), ('manufacturer', 'nissan'), ('model', 'pathfinder 4wd'), ('displ', '4'), ('year', '2008'), ('cyl', '6'), ('trans', 'auto(l5)'), ('drv', '4'), ('cty', '14'), ('hwy', '20'), ('fl', 'p'), ('class', 'suv')]), OrderedDict([('', '154'), ('manufacturer', 'nissan'), ('model', 'pathfinder 4wd'), ('displ', '5.6'), ('year', '2008'), ('cyl', '8'), ('trans', 'auto(s5)'), ('drv', '4'), ('cty', '12'), ('hwy', '18'), ('fl', 'p'), ('class', 'suv')]), OrderedDict([('', '155'), ('manufacturer', 'silver'), ('model', 'grand prix'), ('displ', '3.1'), ('year', '1999'), ('cyl', '6'), ('trans', 'auto(l4)'), ('drv', 'f'), ('cty', '18'), ('hwy', '26'), ('fl', 'r'), ('class', 'midsize')]), OrderedDict([('', '156'), ('manufacturer', 'silver'), ('model', 'grand prix'), ('displ', '3.8'), ('year', '1999'), ('cyl', '6'), ('trans', 'auto(l4)'), ('drv', 'f'), ('cty', '16'), ('hwy', '26'), ('fl', 'p'), ('class', 'midsize')]), OrderedDict([('', '157'), ('manufacturer', 'silver'), ('model', 'grand prix'), ('displ', '3.8'), ('year', '1999'), ('cyl', '6'), ('trans', 'auto(l4)'), ('drv', 'f'), ('cty', '17'), ('hwy', '27'), ('fl', 'r'), ('class', 'midsize')]), OrderedDict([('', '158'), ('manufacturer', 'silver'), ('model', 'grand prix'), ('displ', '3.8'), ('year', '2008'), ('cyl', '6'), ('trans', 'auto(l4)'), ('drv', 'f'), ('cty', '18'), ('hwy', '28'), ('fl', 'r'), ('class', 'midsize')]), OrderedDict([('', '159'), ('manufacturer', 'silver'), ('model', 'grand prix'), ('displ', '5.3'), ('year', '2008'), ('cyl', '8'), ('trans', 'auto(s4)'), ('drv', 'f'), ('cty', '16'), ('hwy', '25'), ('fl', 'p'), ('class', 'midsize')]), OrderedDict([('', '160'), ('manufacturer', 'subbie'), ('model', 'forester awd'), ('displ', '2.5'), ('year', '1999'), ('cyl', '4'), ('trans', 'manual(m5)'), ('drv', '4'), ('cty', '18'), ('hwy', '25'), ('fl', 'r'), ('class', 'suv')]), OrderedDict([('', '161'), ('manufacturer', 'subbie'), ('model', 'forester awd'), ('displ', '2.5'), ('year', '1999'), ('cyl', '4'), ('trans', 'auto(l4)'), ('drv', '4'), ('cty', '18'), ('hwy', '24'), ('fl', 'r'), ('class', 'suv')]), OrderedDict([('', '162'), ('manufacturer', 'subbie'), ('model', 'forester awd'), ('displ', '2.5'), ('year', '2008'), ('cyl', '4'), ('trans', 'manual(m5)'), ('drv', '4'), ('cty', '20'), ('hwy', '27'), ('fl', 'r'), ('class', 'suv')]), OrderedDict([('', '163'), ('manufacturer', 'subbie'), ('model', 'forester awd'), ('displ', '2.5'), ('year', '2008'), ('cyl', '4'), ('trans', 'manual(m5)'), ('drv', '4'), ('cty', '19'), ('hwy', '25'), ('fl', 'p'), ('class', 'suv')]), OrderedDict([('', '164'), ('manufacturer', 'subbie'), ('model', 'forester awd'), ('displ', '2.5'), ('year', '2008'), ('cyl', '4'), ('trans', 'auto(l4)'), ('drv', '4'), ('cty', '20'), ('hwy', '26'), ('fl', 'r'), ('class', 'suv')]), OrderedDict([('', '165'), ('manufacturer', 'subbie'), ('model', 'forester awd'), ('displ', '2.5'), ('year', '2008'), ('cyl', '4'), ('trans', 'auto(l4)'), ('drv', '4'), ('cty', '18'), ('hwy', '23'), ('fl', 'p'), ('class', 'suv')]), OrderedDict([('', '166'), ('manufacturer', 'subbie'), ('model', 'impreza awd'), ('displ', '2.2'), ('year', '1999'), ('cyl', '4'), ('trans', 'auto(l4)'), ('drv', '4'), ('cty', '21'), ('hwy', '26'), ('fl', 'r'), ('class', 'subcompact')]), OrderedDict([('', '167'), ('manufacturer', 'subbie'), ('model', 'impreza awd'), ('displ', '2.2'), ('year', '1999'), ('cyl', '4'), ('trans', 'manual(m5)'), ('drv', '4'), ('cty', '19'), ('hwy', '26'), ('fl', 'r'), ('class', 'subcompact')]), OrderedDict([('', '168'), ('manufacturer', 'subbie'), ('model', 'impreza awd'), ('displ', '2.5'), ('year', '1999'), ('cyl', '4'), ('trans', 'manual(m5)'), ('drv', '4'), ('cty', '19'), ('hwy', '26'), ('fl', 'r'), ('class', 'subcompact')]), OrderedDict([('', '169'), ('manufacturer', 'subbie'), ('model', 'impreza awd'), ('displ', '2.5'), ('year', '1999'), ('cyl', '4'), ('trans', 'auto(l4)'), ('drv', '4'), ('cty', '19'), ('hwy', '26'), ('fl', 'r'), ('class', 'subcompact')]), OrderedDict([('', '170'), ('manufacturer', 'subbie'), ('model', 'impreza awd'), ('displ', '2.5'), ('year', '2008'), ('cyl', '4'), ('trans', 'auto(s4)'), ('drv', '4'), ('cty', '20'), ('hwy', '25'), ('fl', 'p'), ('class', 'compact')]), OrderedDict([('', '171'), ('manufacturer', 'subbie'), ('model', 'impreza awd'), ('displ', '2.5'), ('year', '2008'), ('cyl', '4'), ('trans', 'auto(s4)'), ('drv', '4'), ('cty', '20'), ('hwy', '27'), ('fl', 'r'), ('class', 'compact')]), OrderedDict([('', '172'), ('manufacturer', 'subbie'), ('model', 'impreza awd'), ('displ', '2.5'), ('year', '2008'), ('cyl', '4'), ('trans', 'manual(m5)'), ('drv', '4'), ('cty', '19'), ('hwy', '25'), ('fl', 'p'), ('class', 'compact')]), OrderedDict([('', '173'), ('manufacturer', 'subbie'), ('model', 'impreza awd'), ('displ', '2.5'), ('year', '2008'), ('cyl', '4'), ('trans', 'manual(m5)'), ('drv', '4'), ('cty', '20'), ('hwy', '27'), ('fl', 'r'), ('class', 'compact')]), OrderedDict([('', '174'), ('manufacturer', 'tinker'), ('model', '4runner 4wd'), ('displ', '2.7'), ('year', '1999'), ('cyl', '4'), ('trans', 'manual(m5)'), ('drv', '4'), ('cty', '15'), ('hwy', '20'), ('fl', 'r'), ('class', 'suv')]), OrderedDict([('', '175'), ('manufacturer', 'tinker'), ('model', '4runner 4wd'), ('displ', '2.7'), ('year', '1999'), ('cyl', '4'), ('trans', 'auto(l4)'), ('drv', '4'), ('cty', '16'), ('hwy', '20'), ('fl', 'r'), ('class', 'suv')]), OrderedDict([('', '176'), ('manufacturer', 'tinker'), ('model', '4runner 4wd'), ('displ', '3.4'), ('year', '1999'), ('cyl', '6'), ('trans', 'auto(l4)'), ('drv', '4'), ('cty', '15'), ('hwy', '19'), ('fl', 'r'), ('class', 'suv')]), OrderedDict([('', '177'), ('manufacturer', 'tinker'), ('model', '4runner 4wd'), ('displ', '3.4'), ('year', '1999'), ('cyl', '6'), ('trans', 'manual(m5)'), ('drv', '4'), ('cty', '15'), ('hwy', '17'), ('fl', 'r'), ('class', 'suv')]), OrderedDict([('', '178'), ('manufacturer', 'tinker'), ('model', '4runner 4wd'), ('displ', '4'), ('year', '2008'), ('cyl', '6'), ('trans', 'auto(l5)'), ('drv', '4'), ('cty', '16'), ('hwy', '20'), ('fl', 'r'), ('class', 'suv')]), OrderedDict([('', '179'), ('manufacturer', 'tinker'), ('model', '4runner 4wd'), ('displ', '4.7'), ('year', '2008'), ('cyl', '8'), ('trans', 'auto(l5)'), ('drv', '4'), ('cty', '14'), ('hwy', '17'), ('fl', 'r'), ('class', 'suv')]), OrderedDict([('', '180'), ('manufacturer', 'tinker'), ('model', 'camry'), ('displ', '2.2'), ('year', '1999'), ('cyl', '4'), ('trans', 'manual(m5)'), ('drv', 'f'), ('cty', '21'), ('hwy', '29'), ('fl', 'r'), ('class', 'midsize')]), OrderedDict([('', '181'), ('manufacturer', 'tinker'), ('model', 'camry'), ('displ', '2.2'), ('year', '1999'), ('cyl', '4'), ('trans', 'auto(l4)'), ('drv', 'f'), ('cty', '21'), ('hwy', '27'), ('fl', 'r'), ('class', 'midsize')]), OrderedDict([('', '182'), ('manufacturer', 'tinker'), ('model', 'camry'), ('displ', '2.4'), ('year', '2008'), ('cyl', '4'), ('trans', 'manual(m5)'), ('drv', 'f'), ('cty', '21'), ('hwy', '31'), ('fl', 'r'), ('class', 'midsize')]), OrderedDict([('', '183'), ('manufacturer', 'tinker'), ('model', 'camry'), ('displ', '2.4'), ('year', '2008'), ('cyl', '4'), ('trans', 'auto(l5)'), ('drv', 'f'), ('cty', '21'), ('hwy', '31'), ('fl', 'r'), ('class', 'midsize')]), OrderedDict([('', '184'), ('manufacturer', 'tinker'), ('model', 'camry'), ('displ', '3'), ('year', '1999'), ('cyl', '6'), ('trans', 'auto(l4)'), ('drv', 'f'), ('cty', '18'), ('hwy', '26'), ('fl', 'r'), ('class', 'midsize')]), OrderedDict([('', '185'), ('manufacturer', 'tinker'), ('model', 'camry'), ('displ', '3'), ('year', '1999'), ('cyl', '6'), ('trans', 'manual(m5)'), ('drv', 'f'), ('cty', '18'), ('hwy', '26'), ('fl', 'r'), ('class', 'midsize')]), OrderedDict([('', '186'), ('manufacturer', 'tinker'), ('model', 'camry'), ('displ', '3.5'), ('year', '2008'), ('cyl', '6'), ('trans', 'auto(s6)'), ('drv', 'f'), ('cty', '19'), ('hwy', '28'), ('fl', 'r'), ('class', 'midsize')]), OrderedDict([('', '187'), ('manufacturer', 'tinker'), ('model', 'camry solara'), ('displ', '2.2'), ('year', '1999'), ('cyl', '4'), ('trans', 'auto(l4)'), ('drv', 'f'), ('cty', '21'), ('hwy', '27'), ('fl', 'r'), ('class', 'compact')]), OrderedDict([('', '188'), ('manufacturer', 'tinker'), ('model', 'camry solara'), ('displ', '2.2'), ('year', '1999'), ('cyl', '4'), ('trans', 'manual(m5)'), ('drv', 'f'), ('cty', '21'), ('hwy', '29'), ('fl', 'r'), ('class', 'compact')]), OrderedDict([('', '189'), ('manufacturer', 'tinker'), ('model', 'camry solara'), ('displ', '2.4'), ('year', '2008'), ('cyl', '4'), ('trans', 'manual(m5)'), ('drv', 'f'), ('cty', '21'), ('hwy', '31'), ('fl', 'r'), ('class', 'compact')]), OrderedDict([('', '190'), ('manufacturer', 'tinker'), ('model', 'camry solara'), ('displ', '2.4'), ('year', '2008'), ('cyl', '4'), ('trans', 'auto(s5)'), ('drv', 'f'), ('cty', '22'), ('hwy', '31'), ('fl', 'r'), ('class', 'compact')]), OrderedDict([('', '191'), ('manufacturer', 'tinker'), ('model', 'camry solara'), ('displ', '3'), ('year', '1999'), ('cyl', '6'), ('trans', 'auto(l4)'), ('drv', 'f'), ('cty', '18'), ('hwy', '26'), ('fl', 'r'), ('class', 'compact')]), OrderedDict([('', '192'), ('manufacturer', 'tinker'), ('model', 'camry solara'), ('displ', '3'), ('year', '1999'), ('cyl', '6'), ('trans', 'manual(m5)'), ('drv', 'f'), ('cty', '18'), ('hwy', '26'), ('fl', 'r'), ('class', 'compact')]), OrderedDict([('', '193'), ('manufacturer', 'tinker'), ('model', 'camry solara'), ('displ', '3.3'), ('year', '2008'), ('cyl', '6'), ('trans', 'auto(s5)'), ('drv', 'f'), ('cty', '18'), ('hwy', '27'), ('fl', 'r'), ('class', 'compact')]), OrderedDict([('', '194'), ('manufacturer', 'tinker'), ('model', 'corolla'), ('displ', '1.8'), ('year', '1999'), ('cyl', '4'), ('trans', 'auto(l3)'), ('drv', 'f'), ('cty', '24'), ('hwy', '30'), ('fl', 'r'), ('class', 'compact')]), OrderedDict([('', '195'), ('manufacturer', 'tinker'), ('model', 'corolla'), ('displ', '1.8'), ('year', '1999'), ('cyl', '4'), ('trans', 'auto(l4)'), ('drv', 'f'), ('cty', '24'), ('hwy', '33'), ('fl', 'r'), ('class', 'compact')]), OrderedDict([('', '196'), ('manufacturer', 'tinker'), ('model', 'corolla'), ('displ', '1.8'), ('year', '1999'), ('cyl', '4'), ('trans', 'manual(m5)'), ('drv', 'f'), ('cty', '26'), ('hwy', '35'), ('fl', 'r'), ('class', 'compact')]), OrderedDict([('', '197'), ('manufacturer', 'tinker'), ('model', 'corolla'), ('displ', '1.8'), ('year', '2008'), ('cyl', '4'), ('trans', 'manual(m5)'), ('drv', 'f'), ('cty', '28'), ('hwy', '37'), ('fl', 'r'), ('class', 'compact')]), OrderedDict([('', '198'), ('manufacturer', 'tinker'), ('model', 'corolla'), ('displ', '1.8'), ('year', '2008'), ('cyl', '4'), ('trans', 'auto(l4)'), ('drv', 'f'), ('cty', '26'), ('hwy', '35'), ('fl', 'r'), ('class', 'compact')]), OrderedDict([('', '199'), ('manufacturer', 'tinker'), ('model', 'land cruiser wagon 4wd'), ('displ', '4.7'), ('year', '1999'), ('cyl', '8'), ('trans', 'auto(l4)'), ('drv', '4'), ('cty', '11'), ('hwy', '15'), ('fl', 'r'), ('class', 'suv')]), OrderedDict([('', '200'), ('manufacturer', 'tinker'), ('model', 'land cruiser wagon 4wd'), ('displ', '5.7'), ('year', '2008'), ('cyl', '8'), ('trans', 'auto(s6)'), ('drv', '4'), ('cty', '13'), ('hwy', '18'), ('fl', 'r'), ('class', 'suv')]), OrderedDict([('', '201'), ('manufacturer', 'tinker'), ('model', 'tinker tacoma 4wd'), ('displ', '2.7'), ('year', '1999'), ('cyl', '4'), ('trans', 'manual(m5)'), ('drv', '4'), ('cty', '15'), ('hwy', '20'), ('fl', 'r'), ('class', 'pickup')]), OrderedDict([('', '202'), ('manufacturer', 'tinker'), ('model', 'tinker tacoma 4wd'), ('displ', '2.7'), ('year', '1999'), ('cyl', '4'), ('trans', 'auto(l4)'), ('drv', '4'), ('cty', '16'), ('hwy', '20'), ('fl', 'r'), ('class', 'pickup')]), OrderedDict([('', '203'), ('manufacturer', 'tinker'), ('model', 'tinker tacoma 4wd'), ('displ', '2.7'), ('year', '2008'), ('cyl', '4'), ('trans', 'manual(m5)'), ('drv', '4'), ('cty', '17'), ('hwy', '22'), ('fl', 'r'), ('class', 'pickup')]), OrderedDict([('', '204'), ('manufacturer', 'tinker'), ('model', 'tinker tacoma 4wd'), ('displ', '3.4'), ('year', '1999'), ('cyl', '6'), ('trans', 'manual(m5)'), ('drv', '4'), ('cty', '15'), ('hwy', '17'), ('fl', 'r'), ('class', 'pickup')]), OrderedDict([('', '205'), ('manufacturer', 'tinker'), ('model', 'tinker tacoma 4wd'), ('displ', '3.4'), ('year', '1999'), ('cyl', '6'), ('trans', 'auto(l4)'), ('drv', '4'), ('cty', '15'), ('hwy', '19'), ('fl', 'r'), ('class', 'pickup')]), OrderedDict([('', '206'), ('manufacturer', 'tinker'), ('model', 'tinker tacoma 4wd'), ('displ', '4'), ('year', '2008'), ('cyl', '6'), ('trans', 'manual(m6)'), ('drv', '4'), ('cty', '15'), ('hwy', '18'), ('fl', 'r'), ('class', 'pickup')]), OrderedDict([('', '207'), ('manufacturer', 'tinker'), ('model', 'tinker tacoma 4wd'), ('displ', '4'), ('year', '2008'), ('cyl', '6'), ('trans', 'auto(l5)'), ('drv', '4'), ('cty', '16'), ('hwy', '20'), ('fl', 'r'), ('class', 'pickup')]), OrderedDict([('', '208'), ('manufacturer', 'volks'), ('model', 'gild'), ('displ', '2'), ('year', '1999'), ('cyl', '4'), ('trans', 'manual(m5)'), ('drv', 'f'), ('cty', '21'), ('hwy', '29'), ('fl', 'r'), ('class', 'compact')]), OrderedDict([('', '209'), ('manufacturer', 'volks'), ('model', 'gild'), ('displ', '2'), ('year', '1999'), ('cyl', '4'), ('trans', 'auto(l4)'), ('drv', 'f'), ('cty', '19'), ('hwy', '26'), ('fl', 'r'), ('class', 'compact')]), OrderedDict([('', '210'), ('manufacturer', 'volks'), ('model', 'gild'), ('displ', '2'), ('year', '2008'), ('cyl', '4'), ('trans', 'manual(m6)'), ('drv', 'f'), ('cty', '21'), ('hwy', '29'), ('fl', 'p'), ('class', 'compact')]), OrderedDict([('', '211'), ('manufacturer', 'volks'), ('model', 'gild'), ('displ', '2'), ('year', '2008'), ('cyl', '4'), ('trans', 'auto(s6)'), ('drv', 'f'), ('cty', '22'), ('hwy', '29'), ('fl', 'p'), ('class', 'compact')]), OrderedDict([('', '212'), ('manufacturer', 'volks'), ('model', 'gild'), ('displ', '2.8'), ('year', '1999'), ('cyl', '6'), ('trans', 'manual(m5)'), ('drv', 'f'), ('cty', '17'), ('hwy', '24'), ('fl', 'r'), ('class', 'compact')]), OrderedDict([('', '213'), ('manufacturer', 'volks'), ('model', 'jetfast'), ('displ', '1.9'), ('year', '1999'), ('cyl', '4'), ('trans', 'manual(m5)'), ('drv', 'f'), ('cty', '33'), ('hwy', '44'), ('fl', 'd'), ('class', 'compact')]), OrderedDict([('', '214'), ('manufacturer', 'volks'), ('model', 'jetfast'), ('displ', '2'), ('year', '1999'), ('cyl', '4'), ('trans', 'manual(m5)'), ('drv', 'f'), ('cty', '21'), ('hwy', '29'), ('fl', 'r'), ('class', 'compact')]), OrderedDict([('', '215'), ('manufacturer', 'volks'), ('model', 'jetfast'), ('displ', '2'), ('year', '1999'), ('cyl', '4'), ('trans', 'auto(l4)'), ('drv', 'f'), ('cty', '19'), ('hwy', '26'), ('fl', 'r'), ('class', 'compact')]), OrderedDict([('', '216'), ('manufacturer', 'volks'), ('model', 'jetfast'), ('displ', '2'), ('year', '2008'), ('cyl', '4'), ('trans', 'auto(s6)'), ('drv', 'f'), ('cty', '22'), ('hwy', '29'), ('fl', 'p'), ('class', 'compact')]), OrderedDict([('', '217'), ('manufacturer', 'volks'), ('model', 'jetfast'), ('displ', '2'), ('year', '2008'), ('cyl', '4'), ('trans', 'manual(m6)'), ('drv', 'f'), ('cty', '21'), ('hwy', '29'), ('fl', 'p'), ('class', 'compact')]), OrderedDict([('', '218'), ('manufacturer', 'volks'), ('model', 'jetfast'), ('displ', '2.5'), ('year', '2008'), ('cyl', '5'), ('trans', 'auto(s6)'), ('drv', 'f'), ('cty', '21'), ('hwy', '29'), ('fl', 'r'), ('class', 'compact')]), OrderedDict([('', '219'), ('manufacturer', 'volks'), ('model', 'jetfast'), ('displ', '2.5'), ('year', '2008'), ('cyl', '5'), ('trans', 'manual(m5)'), ('drv', 'f'), ('cty', '21'), ('hwy', '29'), ('fl', 'r'), ('class', 'compact')]), OrderedDict([('', '220'), ('manufacturer', 'volks'), ('model', 'jetfast'), ('displ', '2.8'), ('year', '1999'), ('cyl', '6'), ('trans', 'auto(l4)'), ('drv', 'f'), ('cty', '16'), ('hwy', '23'), ('fl', 'r'), ('class', 'compact')]), OrderedDict([('', '221'), ('manufacturer', 'volks'), ('model', 'jetfast'), ('displ', '2.8'), ('year', '1999'), ('cyl', '6'), ('trans', 'manual(m5)'), ('drv', 'f'), ('cty', '17'), ('hwy', '24'), ('fl', 'r'), ('class', 'compact')]), OrderedDict([('', '222'), ('manufacturer', 'volks'), ('model', 'old beetle'), ('displ', '1.9'), ('year', '1999'), ('cyl', '4'), ('trans', 'manual(m5)'), ('drv', 'f'), ('cty', '35'), ('hwy', '44'), ('fl', 'd'), ('class', 'subcompact')]), OrderedDict([('', '223'), ('manufacturer', 'volks'), ('model', 'old beetle'), ('displ', '1.9'), ('year', '1999'), ('cyl', '4'), ('trans', 'auto(l4)'), ('drv', 'f'), ('cty', '29'), ('hwy', '41'), ('fl', 'd'), ('class', 'subcompact')]), OrderedDict([('', '224'), ('manufacturer', 'volks'), ('model', 'old beetle'), ('displ', '2'), ('year', '1999'), ('cyl', '4'), ('trans', 'manual(m5)'), ('drv', 'f'), ('cty', '21'), ('hwy', '29'), ('fl', 'r'), ('class', 'subcompact')]), OrderedDict([('', '225'), ('manufacturer', 'volks'), ('model', 'old beetle'), ('displ', '2'), ('year', '1999'), ('cyl', '4'), ('trans', 'auto(l4)'), ('drv', 'f'), ('cty', '19'), ('hwy', '26'), ('fl', 'r'), ('class', 'subcompact')]), OrderedDict([('', '226'), ('manufacturer', 'volks'), ('model', 'old beetle'), ('displ', '2.5'), ('year', '2008'), ('cyl', '5'), ('trans', 'manual(m5)'), ('drv', 'f'), ('cty', '20'), ('hwy', '28'), ('fl', 'r'), ('class', 'subcompact')]), OrderedDict([('', '227'), ('manufacturer', 'volks'), ('model', 'old beetle'), ('displ', '2.5'), ('year', '2008'), ('cyl', '5'), ('trans', 'auto(s6)'), ('drv', 'f'), ('cty', '20'), ('hwy', '29'), ('fl', 'r'), ('class', 'subcompact')]), OrderedDict([('', '228'), ('manufacturer', 'volks'), ('model', 'box'), ('displ', '1.8'), ('year', '1999'), ('cyl', '4'), ('trans', 'manual(m5)'), ('drv', 'f'), ('cty', '21'), ('hwy', '29'), ('fl', 'p'), ('class', 'midsize')]), OrderedDict([('', '229'), ('manufacturer', 'volks'), ('model', 'box'), ('displ', '1.8'), ('year', '1999'), ('cyl', '4'), ('trans', 'auto(l5)'), ('drv', 'f'), ('cty', '18'), ('hwy', '29'), ('fl', 'p'), ('class', 'midsize')]), OrderedDict([('', '230'), ('manufacturer', 'volks'), ('model', 'box'), ('displ', '2'), ('year', '2008'), ('cyl', '4'), ('trans', 'auto(s6)'), ('drv', 'f'), ('cty', '19'), ('hwy', '28'), ('fl', 'p'), ('class', 'midsize')]), OrderedDict([('', '231'), ('manufacturer', 'volks'), ('model', 'box'), ('displ', '2'), ('year', '2008'), ('cyl', '4'), ('trans', 'manual(m6)'), ('drv', 'f'), ('cty', '21'), ('hwy', '29'), ('fl', 'p'), ('class', 'midsize')]), OrderedDict([('', '232'), ('manufacturer', 'volks'), ('model', 'box'), ('displ', '2.8'), ('year', '1999'), ('cyl', '6'), ('trans', 'auto(l5)'), ('drv', 'f'), ('cty', '16'), ('hwy', '26'), ('fl', 'p'), ('class', 'midsize')]), OrderedDict([('', '233'), ('manufacturer', 'volks'), ('model', 'box'), ('displ', '2.8'), ('year', '1999'), ('cyl', '6'), ('trans', 'manual(m5)'), ('drv', 'f'), ('cty', '18'), ('hwy', '26'), ('fl', 'p'), ('class', 'midsize')]), OrderedDict([('', '234'), ('manufacturer', 'volks'), ('model', 'box'), ('displ', '3.6'), ('year', '2008'), ('cyl', '6'), ('trans', 'auto(s6)'), ('drv', 'f'), ('cty', '17'), ('hwy', '26'), ('fl', 'p'), ('class', 'midsize')])]\n"
     ]
    }
   ],
   "source": [
    "print(mpg)"
   ]
  },
  {
   "cell_type": "code",
   "execution_count": 78,
   "metadata": {},
   "outputs": [
    {
     "data": {
      "text/plain": [
       "[OrderedDict([('', '1'),\n",
       "              ('manufacturer', 'allude'),\n",
       "              ('model', 'excel'),\n",
       "              ('displ', '1.8'),\n",
       "              ('year', '1999'),\n",
       "              ('cyl', '4'),\n",
       "              ('trans', 'auto(l5)'),\n",
       "              ('drv', 'f'),\n",
       "              ('cty', '18'),\n",
       "              ('hwy', '29'),\n",
       "              ('fl', 'p'),\n",
       "              ('class', 'compact')]),\n",
       " OrderedDict([('', '2'),\n",
       "              ('manufacturer', 'allude'),\n",
       "              ('model', 'excel'),\n",
       "              ('displ', '1.8'),\n",
       "              ('year', '1999'),\n",
       "              ('cyl', '4'),\n",
       "              ('trans', 'manual(m5)'),\n",
       "              ('drv', 'f'),\n",
       "              ('cty', '21'),\n",
       "              ('hwy', '29'),\n",
       "              ('fl', 'p'),\n",
       "              ('class', 'compact')]),\n",
       " OrderedDict([('', '3'),\n",
       "              ('manufacturer', 'allude'),\n",
       "              ('model', 'excel'),\n",
       "              ('displ', '2'),\n",
       "              ('year', '2008'),\n",
       "              ('cyl', '4'),\n",
       "              ('trans', 'manual(m6)'),\n",
       "              ('drv', 'f'),\n",
       "              ('cty', '20'),\n",
       "              ('hwy', '31'),\n",
       "              ('fl', 'p'),\n",
       "              ('class', 'compact')]),\n",
       " OrderedDict([('', '4'),\n",
       "              ('manufacturer', 'allude'),\n",
       "              ('model', 'excel'),\n",
       "              ('displ', '2'),\n",
       "              ('year', '2008'),\n",
       "              ('cyl', '4'),\n",
       "              ('trans', 'auto(av)'),\n",
       "              ('drv', 'f'),\n",
       "              ('cty', '21'),\n",
       "              ('hwy', '30'),\n",
       "              ('fl', 'p'),\n",
       "              ('class', 'compact')]),\n",
       " OrderedDict([('', '5'),\n",
       "              ('manufacturer', 'allude'),\n",
       "              ('model', 'excel'),\n",
       "              ('displ', '2.8'),\n",
       "              ('year', '1999'),\n",
       "              ('cyl', '6'),\n",
       "              ('trans', 'auto(l5)'),\n",
       "              ('drv', 'f'),\n",
       "              ('cty', '16'),\n",
       "              ('hwy', '26'),\n",
       "              ('fl', 'p'),\n",
       "              ('class', 'compact')])]"
      ]
     },
     "execution_count": 78,
     "metadata": {},
     "output_type": "execute_result"
    }
   ],
   "source": [
    "mpg[0:5] "
   ]
  },
  {
   "cell_type": "code",
   "execution_count": 79,
   "metadata": {},
   "outputs": [
    {
     "data": {
      "text/plain": [
       "OrderedDict([('', '1'),\n",
       "             ('manufacturer', 'allude'),\n",
       "             ('model', 'excel'),\n",
       "             ('displ', '1.8'),\n",
       "             ('year', '1999'),\n",
       "             ('cyl', '4'),\n",
       "             ('trans', 'auto(l5)'),\n",
       "             ('drv', 'f'),\n",
       "             ('cty', '18'),\n",
       "             ('hwy', '29'),\n",
       "             ('fl', 'p'),\n",
       "             ('class', 'compact')])"
      ]
     },
     "execution_count": 79,
     "metadata": {},
     "output_type": "execute_result"
    }
   ],
   "source": [
    "mpg[0] "
   ]
  },
  {
   "cell_type": "code",
   "execution_count": 80,
   "metadata": {},
   "outputs": [
    {
     "name": "stdout",
     "output_type": "stream",
     "text": [
      "<class 'collections.OrderedDict'>\n",
      "True\n"
     ]
    },
    {
     "data": {
      "text/plain": [
       "234"
      ]
     },
     "execution_count": 80,
     "metadata": {},
     "output_type": "execute_result"
    }
   ],
   "source": [
    "print(type(mpg[0]))\n",
    "print('drv' in mpg[0])\n",
    "len(mpg)"
   ]
  },
  {
   "cell_type": "code",
   "execution_count": 81,
   "metadata": {},
   "outputs": [
    {
     "data": {
      "text/plain": [
       "odict_keys(['', 'manufacturer', 'model', 'displ', 'year', 'cyl', 'trans', 'drv', 'cty', 'hwy', 'fl', 'class'])"
      ]
     },
     "execution_count": 81,
     "metadata": {},
     "output_type": "execute_result"
    }
   ],
   "source": [
    "# how can we get the column name for a given dictionary\n",
    "\n",
    "mpg[10].keys()"
   ]
  },
  {
   "cell_type": "code",
   "execution_count": 82,
   "metadata": {},
   "outputs": [
    {
     "name": "stdout",
     "output_type": "stream",
     "text": [
      "OrderedDict([('', '1'), ('manufacturer', 'allude'), ('model', 'excel'), ('displ', '1.8'), ('year', '1999'), ('cyl', '4'), ('trans', 'auto(l5)'), ('drv', 'f'), ('cty', '18'), ('hwy', '29'), ('fl', 'p'), ('class', 'compact')])\n",
      "OrderedDict([('', '2'), ('manufacturer', 'allude'), ('model', 'excel'), ('displ', '1.8'), ('year', '1999'), ('cyl', '4'), ('trans', 'manual(m5)'), ('drv', 'f'), ('cty', '21'), ('hwy', '29'), ('fl', 'p'), ('class', 'compact')])\n",
      "OrderedDict([('', '3'), ('manufacturer', 'allude'), ('model', 'excel'), ('displ', '2'), ('year', '2008'), ('cyl', '4'), ('trans', 'manual(m6)'), ('drv', 'f'), ('cty', '20'), ('hwy', '31'), ('fl', 'p'), ('class', 'compact')])\n",
      "OrderedDict([('', '4'), ('manufacturer', 'allude'), ('model', 'excel'), ('displ', '2'), ('year', '2008'), ('cyl', '4'), ('trans', 'auto(av)'), ('drv', 'f'), ('cty', '21'), ('hwy', '30'), ('fl', 'p'), ('class', 'compact')])\n",
      "OrderedDict([('', '5'), ('manufacturer', 'allude'), ('model', 'excel'), ('displ', '2.8'), ('year', '1999'), ('cyl', '6'), ('trans', 'auto(l5)'), ('drv', 'f'), ('cty', '16'), ('hwy', '26'), ('fl', 'p'), ('class', 'compact')])\n",
      "OrderedDict([('', '6'), ('manufacturer', 'allude'), ('model', 'excel'), ('displ', '2.8'), ('year', '1999'), ('cyl', '6'), ('trans', 'manual(m5)'), ('drv', 'f'), ('cty', '18'), ('hwy', '26'), ('fl', 'p'), ('class', 'compact')])\n",
      "OrderedDict([('', '7'), ('manufacturer', 'allude'), ('model', 'excel'), ('displ', '3.1'), ('year', '2008'), ('cyl', '6'), ('trans', 'auto(av)'), ('drv', 'f'), ('cty', '18'), ('hwy', '27'), ('fl', 'p'), ('class', 'compact')])\n",
      "OrderedDict([('', '8'), ('manufacturer', 'allude'), ('model', 'excel finesse'), ('displ', '1.8'), ('year', '1999'), ('cyl', '4'), ('trans', 'manual(m5)'), ('drv', '4'), ('cty', '18'), ('hwy', '26'), ('fl', 'p'), ('class', 'compact')])\n",
      "OrderedDict([('', '9'), ('manufacturer', 'allude'), ('model', 'excel finesse'), ('displ', '1.8'), ('year', '1999'), ('cyl', '4'), ('trans', 'auto(l5)'), ('drv', '4'), ('cty', '16'), ('hwy', '25'), ('fl', 'p'), ('class', 'compact')])\n",
      "OrderedDict([('', '10'), ('manufacturer', 'allude'), ('model', 'excel finesse'), ('displ', '2'), ('year', '2008'), ('cyl', '4'), ('trans', 'manual(m6)'), ('drv', '4'), ('cty', '20'), ('hwy', '28'), ('fl', 'p'), ('class', 'compact')])\n",
      "OrderedDict([('', '11'), ('manufacturer', 'allude'), ('model', 'excel finesse'), ('displ', '2'), ('year', '2008'), ('cyl', '4'), ('trans', 'auto(s6)'), ('drv', '4'), ('cty', '19'), ('hwy', '27'), ('fl', 'p'), ('class', 'compact')])\n",
      "OrderedDict([('', '12'), ('manufacturer', 'allude'), ('model', 'excel finesse'), ('displ', '2.8'), ('year', '1999'), ('cyl', '6'), ('trans', 'auto(l5)'), ('drv', '4'), ('cty', '15'), ('hwy', '25'), ('fl', 'p'), ('class', 'compact')])\n",
      "OrderedDict([('', '13'), ('manufacturer', 'allude'), ('model', 'excel finesse'), ('displ', '2.8'), ('year', '1999'), ('cyl', '6'), ('trans', 'manual(m5)'), ('drv', '4'), ('cty', '17'), ('hwy', '25'), ('fl', 'p'), ('class', 'compact')])\n",
      "OrderedDict([('', '14'), ('manufacturer', 'allude'), ('model', 'excel finesse'), ('displ', '3.1'), ('year', '2008'), ('cyl', '6'), ('trans', 'auto(s6)'), ('drv', '4'), ('cty', '17'), ('hwy', '25'), ('fl', 'p'), ('class', 'compact')])\n",
      "OrderedDict([('', '15'), ('manufacturer', 'allude'), ('model', 'excel finesse'), ('displ', '3.1'), ('year', '2008'), ('cyl', '6'), ('trans', 'manual(m6)'), ('drv', '4'), ('cty', '15'), ('hwy', '25'), ('fl', 'p'), ('class', 'compact')])\n",
      "OrderedDict([('', '16'), ('manufacturer', 'allude'), ('model', 'a6 finesse'), ('displ', '2.8'), ('year', '1999'), ('cyl', '6'), ('trans', 'auto(l5)'), ('drv', '4'), ('cty', '15'), ('hwy', '24'), ('fl', 'p'), ('class', 'midsize')])\n",
      "OrderedDict([('', '17'), ('manufacturer', 'allude'), ('model', 'a6 finesse'), ('displ', '3.1'), ('year', '2008'), ('cyl', '6'), ('trans', 'auto(s6)'), ('drv', '4'), ('cty', '17'), ('hwy', '25'), ('fl', 'p'), ('class', 'midsize')])\n",
      "OrderedDict([('', '18'), ('manufacturer', 'allude'), ('model', 'a6 finesse'), ('displ', '4.2'), ('year', '2008'), ('cyl', '8'), ('trans', 'auto(s6)'), ('drv', '4'), ('cty', '16'), ('hwy', '23'), ('fl', 'p'), ('class', 'midsize')])\n",
      "OrderedDict([('', '19'), ('manufacturer', 'chevron'), ('model', 'm1000 suburban 2wd'), ('displ', '5.3'), ('year', '2008'), ('cyl', '8'), ('trans', 'auto(l4)'), ('drv', 'r'), ('cty', '14'), ('hwy', '20'), ('fl', 'r'), ('class', 'suv')])\n",
      "OrderedDict([('', '20'), ('manufacturer', 'chevron'), ('model', 'm1000 suburban 2wd'), ('displ', '5.3'), ('year', '2008'), ('cyl', '8'), ('trans', 'auto(l4)'), ('drv', 'r'), ('cty', '11'), ('hwy', '15'), ('fl', 'e'), ('class', 'suv')])\n",
      "OrderedDict([('', '21'), ('manufacturer', 'chevron'), ('model', 'm1000 suburban 2wd'), ('displ', '5.3'), ('year', '2008'), ('cyl', '8'), ('trans', 'auto(l4)'), ('drv', 'r'), ('cty', '14'), ('hwy', '20'), ('fl', 'r'), ('class', 'suv')])\n",
      "OrderedDict([('', '22'), ('manufacturer', 'chevron'), ('model', 'm1000 suburban 2wd'), ('displ', '5.7'), ('year', '1999'), ('cyl', '8'), ('trans', 'auto(l4)'), ('drv', 'r'), ('cty', '13'), ('hwy', '17'), ('fl', 'r'), ('class', 'suv')])\n",
      "OrderedDict([('', '23'), ('manufacturer', 'chevron'), ('model', 'm1000 suburban 2wd'), ('displ', '6'), ('year', '2008'), ('cyl', '8'), ('trans', 'auto(l4)'), ('drv', 'r'), ('cty', '12'), ('hwy', '17'), ('fl', 'r'), ('class', 'suv')])\n",
      "OrderedDict([('', '24'), ('manufacturer', 'chevron'), ('model', 'corvette'), ('displ', '5.7'), ('year', '1999'), ('cyl', '8'), ('trans', 'manual(m6)'), ('drv', 'r'), ('cty', '16'), ('hwy', '26'), ('fl', 'p'), ('class', '2seater')])\n",
      "OrderedDict([('', '25'), ('manufacturer', 'chevron'), ('model', 'corvette'), ('displ', '5.7'), ('year', '1999'), ('cyl', '8'), ('trans', 'auto(l4)'), ('drv', 'r'), ('cty', '15'), ('hwy', '23'), ('fl', 'p'), ('class', '2seater')])\n",
      "OrderedDict([('', '26'), ('manufacturer', 'chevron'), ('model', 'corvette'), ('displ', '6.2'), ('year', '2008'), ('cyl', '8'), ('trans', 'manual(m6)'), ('drv', 'r'), ('cty', '16'), ('hwy', '26'), ('fl', 'p'), ('class', '2seater')])\n",
      "OrderedDict([('', '27'), ('manufacturer', 'chevron'), ('model', 'corvette'), ('displ', '6.2'), ('year', '2008'), ('cyl', '8'), ('trans', 'auto(s6)'), ('drv', 'r'), ('cty', '15'), ('hwy', '25'), ('fl', 'p'), ('class', '2seater')])\n",
      "OrderedDict([('', '28'), ('manufacturer', 'chevron'), ('model', 'corvette'), ('displ', '7'), ('year', '2008'), ('cyl', '8'), ('trans', 'manual(m6)'), ('drv', 'r'), ('cty', '15'), ('hwy', '24'), ('fl', 'p'), ('class', '2seater')])\n",
      "OrderedDict([('', '29'), ('manufacturer', 'chevron'), ('model', 'k1500 tahoe 4wd'), ('displ', '5.3'), ('year', '2008'), ('cyl', '8'), ('trans', 'auto(l4)'), ('drv', '4'), ('cty', '14'), ('hwy', '19'), ('fl', 'r'), ('class', 'suv')])\n",
      "OrderedDict([('', '30'), ('manufacturer', 'chevron'), ('model', 'k1500 tahoe 4wd'), ('displ', '5.3'), ('year', '2008'), ('cyl', '8'), ('trans', 'auto(l4)'), ('drv', '4'), ('cty', '11'), ('hwy', '14'), ('fl', 'e'), ('class', 'suv')])\n",
      "OrderedDict([('', '31'), ('manufacturer', 'chevron'), ('model', 'k1500 tahoe 4wd'), ('displ', '5.7'), ('year', '1999'), ('cyl', '8'), ('trans', 'auto(l4)'), ('drv', '4'), ('cty', '11'), ('hwy', '15'), ('fl', 'r'), ('class', 'suv')])\n",
      "OrderedDict([('', '32'), ('manufacturer', 'chevron'), ('model', 'k1500 tahoe 4wd'), ('displ', '6.5'), ('year', '1999'), ('cyl', '8'), ('trans', 'auto(l4)'), ('drv', '4'), ('cty', '14'), ('hwy', '17'), ('fl', 'd'), ('class', 'suv')])\n",
      "OrderedDict([('', '33'), ('manufacturer', 'chevron'), ('model', 'malibu'), ('displ', '2.4'), ('year', '1999'), ('cyl', '4'), ('trans', 'auto(l4)'), ('drv', 'f'), ('cty', '19'), ('hwy', '27'), ('fl', 'r'), ('class', 'midsize')])\n",
      "OrderedDict([('', '34'), ('manufacturer', 'chevron'), ('model', 'malibu'), ('displ', '2.4'), ('year', '2008'), ('cyl', '4'), ('trans', 'auto(l4)'), ('drv', 'f'), ('cty', '22'), ('hwy', '30'), ('fl', 'r'), ('class', 'midsize')])\n",
      "OrderedDict([('', '35'), ('manufacturer', 'chevron'), ('model', 'malibu'), ('displ', '3.1'), ('year', '1999'), ('cyl', '6'), ('trans', 'auto(l4)'), ('drv', 'f'), ('cty', '18'), ('hwy', '26'), ('fl', 'r'), ('class', 'midsize')])\n",
      "OrderedDict([('', '36'), ('manufacturer', 'chevron'), ('model', 'malibu'), ('displ', '3.5'), ('year', '2008'), ('cyl', '6'), ('trans', 'auto(l4)'), ('drv', 'f'), ('cty', '18'), ('hwy', '29'), ('fl', 'r'), ('class', 'midsize')])\n",
      "OrderedDict([('', '37'), ('manufacturer', 'chevron'), ('model', 'malibu'), ('displ', '3.6'), ('year', '2008'), ('cyl', '6'), ('trans', 'auto(s6)'), ('drv', 'f'), ('cty', '17'), ('hwy', '26'), ('fl', 'r'), ('class', 'midsize')])\n",
      "OrderedDict([('', '38'), ('manufacturer', 'doggie'), ('model', 'caravan 2wd'), ('displ', '2.4'), ('year', '1999'), ('cyl', '4'), ('trans', 'auto(l3)'), ('drv', 'f'), ('cty', '18'), ('hwy', '24'), ('fl', 'r'), ('class', 'minivan')])\n",
      "OrderedDict([('', '39'), ('manufacturer', 'doggie'), ('model', 'caravan 2wd'), ('displ', '3'), ('year', '1999'), ('cyl', '6'), ('trans', 'auto(l4)'), ('drv', 'f'), ('cty', '17'), ('hwy', '24'), ('fl', 'r'), ('class', 'minivan')])\n",
      "OrderedDict([('', '40'), ('manufacturer', 'doggie'), ('model', 'caravan 2wd'), ('displ', '3.3'), ('year', '1999'), ('cyl', '6'), ('trans', 'auto(l4)'), ('drv', 'f'), ('cty', '16'), ('hwy', '22'), ('fl', 'r'), ('class', 'minivan')])\n",
      "OrderedDict([('', '41'), ('manufacturer', 'doggie'), ('model', 'caravan 2wd'), ('displ', '3.3'), ('year', '1999'), ('cyl', '6'), ('trans', 'auto(l4)'), ('drv', 'f'), ('cty', '16'), ('hwy', '22'), ('fl', 'r'), ('class', 'minivan')])\n",
      "OrderedDict([('', '42'), ('manufacturer', 'doggie'), ('model', 'caravan 2wd'), ('displ', '3.3'), ('year', '2008'), ('cyl', '6'), ('trans', 'auto(l4)'), ('drv', 'f'), ('cty', '17'), ('hwy', '24'), ('fl', 'r'), ('class', 'minivan')])\n",
      "OrderedDict([('', '43'), ('manufacturer', 'doggie'), ('model', 'caravan 2wd'), ('displ', '3.3'), ('year', '2008'), ('cyl', '6'), ('trans', 'auto(l4)'), ('drv', 'f'), ('cty', '17'), ('hwy', '24'), ('fl', 'r'), ('class', 'minivan')])\n",
      "OrderedDict([('', '44'), ('manufacturer', 'doggie'), ('model', 'caravan 2wd'), ('displ', '3.3'), ('year', '2008'), ('cyl', '6'), ('trans', 'auto(l4)'), ('drv', 'f'), ('cty', '11'), ('hwy', '17'), ('fl', 'e'), ('class', 'minivan')])\n",
      "OrderedDict([('', '45'), ('manufacturer', 'doggie'), ('model', 'caravan 2wd'), ('displ', '3.8'), ('year', '1999'), ('cyl', '6'), ('trans', 'auto(l4)'), ('drv', 'f'), ('cty', '15'), ('hwy', '22'), ('fl', 'r'), ('class', 'minivan')])\n",
      "OrderedDict([('', '46'), ('manufacturer', 'doggie'), ('model', 'caravan 2wd'), ('displ', '3.8'), ('year', '1999'), ('cyl', '6'), ('trans', 'auto(l4)'), ('drv', 'f'), ('cty', '15'), ('hwy', '21'), ('fl', 'r'), ('class', 'minivan')])\n",
      "OrderedDict([('', '47'), ('manufacturer', 'doggie'), ('model', 'caravan 2wd'), ('displ', '3.8'), ('year', '2008'), ('cyl', '6'), ('trans', 'auto(l6)'), ('drv', 'f'), ('cty', '16'), ('hwy', '23'), ('fl', 'r'), ('class', 'minivan')])\n",
      "OrderedDict([('', '48'), ('manufacturer', 'doggie'), ('model', 'caravan 2wd'), ('displ', '4'), ('year', '2008'), ('cyl', '6'), ('trans', 'auto(l6)'), ('drv', 'f'), ('cty', '16'), ('hwy', '23'), ('fl', 'r'), ('class', 'minivan')])\n",
      "OrderedDict([('', '49'), ('manufacturer', 'doggie'), ('model', 'dakota pickup 4wd'), ('displ', '3.7'), ('year', '2008'), ('cyl', '6'), ('trans', 'manual(m6)'), ('drv', '4'), ('cty', '15'), ('hwy', '19'), ('fl', 'r'), ('class', 'pickup')])\n",
      "OrderedDict([('', '50'), ('manufacturer', 'doggie'), ('model', 'dakota pickup 4wd'), ('displ', '3.7'), ('year', '2008'), ('cyl', '6'), ('trans', 'auto(l4)'), ('drv', '4'), ('cty', '14'), ('hwy', '18'), ('fl', 'r'), ('class', 'pickup')])\n",
      "OrderedDict([('', '51'), ('manufacturer', 'doggie'), ('model', 'dakota pickup 4wd'), ('displ', '3.9'), ('year', '1999'), ('cyl', '6'), ('trans', 'auto(l4)'), ('drv', '4'), ('cty', '13'), ('hwy', '17'), ('fl', 'r'), ('class', 'pickup')])\n",
      "OrderedDict([('', '52'), ('manufacturer', 'doggie'), ('model', 'dakota pickup 4wd'), ('displ', '3.9'), ('year', '1999'), ('cyl', '6'), ('trans', 'manual(m5)'), ('drv', '4'), ('cty', '14'), ('hwy', '17'), ('fl', 'r'), ('class', 'pickup')])\n",
      "OrderedDict([('', '53'), ('manufacturer', 'doggie'), ('model', 'dakota pickup 4wd'), ('displ', '4.7'), ('year', '2008'), ('cyl', '8'), ('trans', 'auto(l5)'), ('drv', '4'), ('cty', '14'), ('hwy', '19'), ('fl', 'r'), ('class', 'pickup')])\n",
      "OrderedDict([('', '54'), ('manufacturer', 'doggie'), ('model', 'dakota pickup 4wd'), ('displ', '4.7'), ('year', '2008'), ('cyl', '8'), ('trans', 'auto(l5)'), ('drv', '4'), ('cty', '14'), ('hwy', '19'), ('fl', 'r'), ('class', 'pickup')])\n",
      "OrderedDict([('', '55'), ('manufacturer', 'doggie'), ('model', 'dakota pickup 4wd'), ('displ', '4.7'), ('year', '2008'), ('cyl', '8'), ('trans', 'auto(l5)'), ('drv', '4'), ('cty', '9'), ('hwy', '12'), ('fl', 'e'), ('class', 'pickup')])\n",
      "OrderedDict([('', '56'), ('manufacturer', 'doggie'), ('model', 'dakota pickup 4wd'), ('displ', '5.2'), ('year', '1999'), ('cyl', '8'), ('trans', 'manual(m5)'), ('drv', '4'), ('cty', '11'), ('hwy', '17'), ('fl', 'r'), ('class', 'pickup')])\n",
      "OrderedDict([('', '57'), ('manufacturer', 'doggie'), ('model', 'dakota pickup 4wd'), ('displ', '5.2'), ('year', '1999'), ('cyl', '8'), ('trans', 'auto(l4)'), ('drv', '4'), ('cty', '11'), ('hwy', '15'), ('fl', 'r'), ('class', 'pickup')])\n",
      "OrderedDict([('', '58'), ('manufacturer', 'doggie'), ('model', 'durango 4wd'), ('displ', '3.9'), ('year', '1999'), ('cyl', '6'), ('trans', 'auto(l4)'), ('drv', '4'), ('cty', '13'), ('hwy', '17'), ('fl', 'r'), ('class', 'suv')])\n",
      "OrderedDict([('', '59'), ('manufacturer', 'doggie'), ('model', 'durango 4wd'), ('displ', '4.7'), ('year', '2008'), ('cyl', '8'), ('trans', 'auto(l5)'), ('drv', '4'), ('cty', '13'), ('hwy', '17'), ('fl', 'r'), ('class', 'suv')])\n",
      "OrderedDict([('', '60'), ('manufacturer', 'doggie'), ('model', 'durango 4wd'), ('displ', '4.7'), ('year', '2008'), ('cyl', '8'), ('trans', 'auto(l5)'), ('drv', '4'), ('cty', '9'), ('hwy', '12'), ('fl', 'e'), ('class', 'suv')])\n",
      "OrderedDict([('', '61'), ('manufacturer', 'doggie'), ('model', 'durango 4wd'), ('displ', '4.7'), ('year', '2008'), ('cyl', '8'), ('trans', 'auto(l5)'), ('drv', '4'), ('cty', '13'), ('hwy', '17'), ('fl', 'r'), ('class', 'suv')])\n",
      "OrderedDict([('', '62'), ('manufacturer', 'doggie'), ('model', 'durango 4wd'), ('displ', '5.2'), ('year', '1999'), ('cyl', '8'), ('trans', 'auto(l4)'), ('drv', '4'), ('cty', '11'), ('hwy', '16'), ('fl', 'r'), ('class', 'suv')])\n",
      "OrderedDict([('', '63'), ('manufacturer', 'doggie'), ('model', 'durango 4wd'), ('displ', '5.7'), ('year', '2008'), ('cyl', '8'), ('trans', 'auto(l5)'), ('drv', '4'), ('cty', '13'), ('hwy', '18'), ('fl', 'r'), ('class', 'suv')])\n",
      "OrderedDict([('', '64'), ('manufacturer', 'doggie'), ('model', 'durango 4wd'), ('displ', '5.9'), ('year', '1999'), ('cyl', '8'), ('trans', 'auto(l4)'), ('drv', '4'), ('cty', '11'), ('hwy', '15'), ('fl', 'r'), ('class', 'suv')])\n",
      "OrderedDict([('', '65'), ('manufacturer', 'doggie'), ('model', 'ram 1500 pickup 4wd'), ('displ', '4.7'), ('year', '2008'), ('cyl', '8'), ('trans', 'manual(m6)'), ('drv', '4'), ('cty', '12'), ('hwy', '16'), ('fl', 'r'), ('class', 'pickup')])\n",
      "OrderedDict([('', '66'), ('manufacturer', 'doggie'), ('model', 'ram 1500 pickup 4wd'), ('displ', '4.7'), ('year', '2008'), ('cyl', '8'), ('trans', 'auto(l5)'), ('drv', '4'), ('cty', '9'), ('hwy', '12'), ('fl', 'e'), ('class', 'pickup')])\n",
      "OrderedDict([('', '67'), ('manufacturer', 'doggie'), ('model', 'ram 1500 pickup 4wd'), ('displ', '4.7'), ('year', '2008'), ('cyl', '8'), ('trans', 'auto(l5)'), ('drv', '4'), ('cty', '13'), ('hwy', '17'), ('fl', 'r'), ('class', 'pickup')])\n",
      "OrderedDict([('', '68'), ('manufacturer', 'doggie'), ('model', 'ram 1500 pickup 4wd'), ('displ', '4.7'), ('year', '2008'), ('cyl', '8'), ('trans', 'auto(l5)'), ('drv', '4'), ('cty', '13'), ('hwy', '17'), ('fl', 'r'), ('class', 'pickup')])\n",
      "OrderedDict([('', '69'), ('manufacturer', 'doggie'), ('model', 'ram 1500 pickup 4wd'), ('displ', '4.7'), ('year', '2008'), ('cyl', '8'), ('trans', 'manual(m6)'), ('drv', '4'), ('cty', '12'), ('hwy', '16'), ('fl', 'r'), ('class', 'pickup')])\n",
      "OrderedDict([('', '70'), ('manufacturer', 'doggie'), ('model', 'ram 1500 pickup 4wd'), ('displ', '4.7'), ('year', '2008'), ('cyl', '8'), ('trans', 'manual(m6)'), ('drv', '4'), ('cty', '9'), ('hwy', '12'), ('fl', 'e'), ('class', 'pickup')])\n",
      "OrderedDict([('', '71'), ('manufacturer', 'doggie'), ('model', 'ram 1500 pickup 4wd'), ('displ', '5.2'), ('year', '1999'), ('cyl', '8'), ('trans', 'auto(l4)'), ('drv', '4'), ('cty', '11'), ('hwy', '15'), ('fl', 'r'), ('class', 'pickup')])\n",
      "OrderedDict([('', '72'), ('manufacturer', 'doggie'), ('model', 'ram 1500 pickup 4wd'), ('displ', '5.2'), ('year', '1999'), ('cyl', '8'), ('trans', 'manual(m5)'), ('drv', '4'), ('cty', '11'), ('hwy', '16'), ('fl', 'r'), ('class', 'pickup')])\n",
      "OrderedDict([('', '73'), ('manufacturer', 'doggie'), ('model', 'ram 1500 pickup 4wd'), ('displ', '5.7'), ('year', '2008'), ('cyl', '8'), ('trans', 'auto(l5)'), ('drv', '4'), ('cty', '13'), ('hwy', '17'), ('fl', 'r'), ('class', 'pickup')])\n",
      "OrderedDict([('', '74'), ('manufacturer', 'doggie'), ('model', 'ram 1500 pickup 4wd'), ('displ', '5.9'), ('year', '1999'), ('cyl', '8'), ('trans', 'auto(l4)'), ('drv', '4'), ('cty', '11'), ('hwy', '15'), ('fl', 'r'), ('class', 'pickup')])\n",
      "OrderedDict([('', '75'), ('manufacturer', 'freeway'), ('model', 'expedition 2wd'), ('displ', '4.6'), ('year', '1999'), ('cyl', '8'), ('trans', 'auto(l4)'), ('drv', 'r'), ('cty', '11'), ('hwy', '17'), ('fl', 'r'), ('class', 'suv')])\n",
      "OrderedDict([('', '76'), ('manufacturer', 'freeway'), ('model', 'expedition 2wd'), ('displ', '5.4'), ('year', '1999'), ('cyl', '8'), ('trans', 'auto(l4)'), ('drv', 'r'), ('cty', '11'), ('hwy', '17'), ('fl', 'r'), ('class', 'suv')])\n",
      "OrderedDict([('', '77'), ('manufacturer', 'freeway'), ('model', 'expedition 2wd'), ('displ', '5.4'), ('year', '2008'), ('cyl', '8'), ('trans', 'auto(l6)'), ('drv', 'r'), ('cty', '12'), ('hwy', '18'), ('fl', 'r'), ('class', 'suv')])\n",
      "OrderedDict([('', '78'), ('manufacturer', 'freeway'), ('model', 'explorer 4wd'), ('displ', '4'), ('year', '1999'), ('cyl', '6'), ('trans', 'auto(l5)'), ('drv', '4'), ('cty', '14'), ('hwy', '17'), ('fl', 'r'), ('class', 'suv')])\n",
      "OrderedDict([('', '79'), ('manufacturer', 'freeway'), ('model', 'explorer 4wd'), ('displ', '4'), ('year', '1999'), ('cyl', '6'), ('trans', 'manual(m5)'), ('drv', '4'), ('cty', '15'), ('hwy', '19'), ('fl', 'r'), ('class', 'suv')])\n",
      "OrderedDict([('', '80'), ('manufacturer', 'freeway'), ('model', 'explorer 4wd'), ('displ', '4'), ('year', '1999'), ('cyl', '6'), ('trans', 'auto(l5)'), ('drv', '4'), ('cty', '14'), ('hwy', '17'), ('fl', 'r'), ('class', 'suv')])\n",
      "OrderedDict([('', '81'), ('manufacturer', 'freeway'), ('model', 'explorer 4wd'), ('displ', '4'), ('year', '2008'), ('cyl', '6'), ('trans', 'auto(l5)'), ('drv', '4'), ('cty', '13'), ('hwy', '19'), ('fl', 'r'), ('class', 'suv')])\n",
      "OrderedDict([('', '82'), ('manufacturer', 'freeway'), ('model', 'explorer 4wd'), ('displ', '4.6'), ('year', '2008'), ('cyl', '8'), ('trans', 'auto(l6)'), ('drv', '4'), ('cty', '13'), ('hwy', '19'), ('fl', 'r'), ('class', 'suv')])\n",
      "OrderedDict([('', '83'), ('manufacturer', 'freeway'), ('model', 'explorer 4wd'), ('displ', '5'), ('year', '1999'), ('cyl', '8'), ('trans', 'auto(l4)'), ('drv', '4'), ('cty', '13'), ('hwy', '17'), ('fl', 'r'), ('class', 'suv')])\n",
      "OrderedDict([('', '84'), ('manufacturer', 'freeway'), ('model', 'f150 pickup 4wd'), ('displ', '4.2'), ('year', '1999'), ('cyl', '6'), ('trans', 'auto(l4)'), ('drv', '4'), ('cty', '14'), ('hwy', '17'), ('fl', 'r'), ('class', 'pickup')])\n",
      "OrderedDict([('', '85'), ('manufacturer', 'freeway'), ('model', 'f150 pickup 4wd'), ('displ', '4.2'), ('year', '1999'), ('cyl', '6'), ('trans', 'manual(m5)'), ('drv', '4'), ('cty', '14'), ('hwy', '17'), ('fl', 'r'), ('class', 'pickup')])\n",
      "OrderedDict([('', '86'), ('manufacturer', 'freeway'), ('model', 'f150 pickup 4wd'), ('displ', '4.6'), ('year', '1999'), ('cyl', '8'), ('trans', 'manual(m5)'), ('drv', '4'), ('cty', '13'), ('hwy', '16'), ('fl', 'r'), ('class', 'pickup')])\n",
      "OrderedDict([('', '87'), ('manufacturer', 'freeway'), ('model', 'f150 pickup 4wd'), ('displ', '4.6'), ('year', '1999'), ('cyl', '8'), ('trans', 'auto(l4)'), ('drv', '4'), ('cty', '13'), ('hwy', '16'), ('fl', 'r'), ('class', 'pickup')])\n",
      "OrderedDict([('', '88'), ('manufacturer', 'freeway'), ('model', 'f150 pickup 4wd'), ('displ', '4.6'), ('year', '2008'), ('cyl', '8'), ('trans', 'auto(l4)'), ('drv', '4'), ('cty', '13'), ('hwy', '17'), ('fl', 'r'), ('class', 'pickup')])\n",
      "OrderedDict([('', '89'), ('manufacturer', 'freeway'), ('model', 'f150 pickup 4wd'), ('displ', '5.4'), ('year', '1999'), ('cyl', '8'), ('trans', 'auto(l4)'), ('drv', '4'), ('cty', '11'), ('hwy', '15'), ('fl', 'r'), ('class', 'pickup')])\n",
      "OrderedDict([('', '90'), ('manufacturer', 'freeway'), ('model', 'f150 pickup 4wd'), ('displ', '5.4'), ('year', '2008'), ('cyl', '8'), ('trans', 'auto(l4)'), ('drv', '4'), ('cty', '13'), ('hwy', '17'), ('fl', 'r'), ('class', 'pickup')])\n",
      "OrderedDict([('', '91'), ('manufacturer', 'freeway'), ('model', 'mustang'), ('displ', '3.8'), ('year', '1999'), ('cyl', '6'), ('trans', 'manual(m5)'), ('drv', 'r'), ('cty', '18'), ('hwy', '26'), ('fl', 'r'), ('class', 'subcompact')])\n",
      "OrderedDict([('', '92'), ('manufacturer', 'freeway'), ('model', 'mustang'), ('displ', '3.8'), ('year', '1999'), ('cyl', '6'), ('trans', 'auto(l4)'), ('drv', 'r'), ('cty', '18'), ('hwy', '25'), ('fl', 'r'), ('class', 'subcompact')])\n",
      "OrderedDict([('', '93'), ('manufacturer', 'freeway'), ('model', 'mustang'), ('displ', '4'), ('year', '2008'), ('cyl', '6'), ('trans', 'manual(m5)'), ('drv', 'r'), ('cty', '17'), ('hwy', '26'), ('fl', 'r'), ('class', 'subcompact')])\n",
      "OrderedDict([('', '94'), ('manufacturer', 'freeway'), ('model', 'mustang'), ('displ', '4'), ('year', '2008'), ('cyl', '6'), ('trans', 'auto(l5)'), ('drv', 'r'), ('cty', '16'), ('hwy', '24'), ('fl', 'r'), ('class', 'subcompact')])\n",
      "OrderedDict([('', '95'), ('manufacturer', 'freeway'), ('model', 'mustang'), ('displ', '4.6'), ('year', '1999'), ('cyl', '8'), ('trans', 'auto(l4)'), ('drv', 'r'), ('cty', '15'), ('hwy', '21'), ('fl', 'r'), ('class', 'subcompact')])\n",
      "OrderedDict([('', '96'), ('manufacturer', 'freeway'), ('model', 'mustang'), ('displ', '4.6'), ('year', '1999'), ('cyl', '8'), ('trans', 'manual(m5)'), ('drv', 'r'), ('cty', '15'), ('hwy', '22'), ('fl', 'r'), ('class', 'subcompact')])\n",
      "OrderedDict([('', '97'), ('manufacturer', 'freeway'), ('model', 'mustang'), ('displ', '4.6'), ('year', '2008'), ('cyl', '8'), ('trans', 'manual(m5)'), ('drv', 'r'), ('cty', '15'), ('hwy', '23'), ('fl', 'r'), ('class', 'subcompact')])\n",
      "OrderedDict([('', '98'), ('manufacturer', 'freeway'), ('model', 'mustang'), ('displ', '4.6'), ('year', '2008'), ('cyl', '8'), ('trans', 'auto(l5)'), ('drv', 'r'), ('cty', '15'), ('hwy', '22'), ('fl', 'r'), ('class', 'subcompact')])\n",
      "OrderedDict([('', '99'), ('manufacturer', 'freeway'), ('model', 'mustang'), ('displ', '5.4'), ('year', '2008'), ('cyl', '8'), ('trans', 'manual(m6)'), ('drv', 'r'), ('cty', '14'), ('hwy', '20'), ('fl', 'p'), ('class', 'subcompact')])\n",
      "OrderedDict([('', '100'), ('manufacturer', 'honda'), ('model', 'civic'), ('displ', '1.6'), ('year', '1999'), ('cyl', '4'), ('trans', 'manual(m5)'), ('drv', 'f'), ('cty', '28'), ('hwy', '33'), ('fl', 'r'), ('class', 'subcompact')])\n",
      "OrderedDict([('', '101'), ('manufacturer', 'honda'), ('model', 'civic'), ('displ', '1.6'), ('year', '1999'), ('cyl', '4'), ('trans', 'auto(l4)'), ('drv', 'f'), ('cty', '24'), ('hwy', '32'), ('fl', 'r'), ('class', 'subcompact')])\n",
      "OrderedDict([('', '102'), ('manufacturer', 'honda'), ('model', 'civic'), ('displ', '1.6'), ('year', '1999'), ('cyl', '4'), ('trans', 'manual(m5)'), ('drv', 'f'), ('cty', '25'), ('hwy', '32'), ('fl', 'r'), ('class', 'subcompact')])\n",
      "OrderedDict([('', '103'), ('manufacturer', 'honda'), ('model', 'civic'), ('displ', '1.6'), ('year', '1999'), ('cyl', '4'), ('trans', 'manual(m5)'), ('drv', 'f'), ('cty', '23'), ('hwy', '29'), ('fl', 'p'), ('class', 'subcompact')])\n",
      "OrderedDict([('', '104'), ('manufacturer', 'honda'), ('model', 'civic'), ('displ', '1.6'), ('year', '1999'), ('cyl', '4'), ('trans', 'auto(l4)'), ('drv', 'f'), ('cty', '24'), ('hwy', '32'), ('fl', 'r'), ('class', 'subcompact')])\n",
      "OrderedDict([('', '105'), ('manufacturer', 'honda'), ('model', 'civic'), ('displ', '1.8'), ('year', '2008'), ('cyl', '4'), ('trans', 'manual(m5)'), ('drv', 'f'), ('cty', '26'), ('hwy', '34'), ('fl', 'r'), ('class', 'subcompact')])\n",
      "OrderedDict([('', '106'), ('manufacturer', 'honda'), ('model', 'civic'), ('displ', '1.8'), ('year', '2008'), ('cyl', '4'), ('trans', 'auto(l5)'), ('drv', 'f'), ('cty', '25'), ('hwy', '36'), ('fl', 'r'), ('class', 'subcompact')])\n",
      "OrderedDict([('', '107'), ('manufacturer', 'honda'), ('model', 'civic'), ('displ', '1.8'), ('year', '2008'), ('cyl', '4'), ('trans', 'auto(l5)'), ('drv', 'f'), ('cty', '24'), ('hwy', '36'), ('fl', 'c'), ('class', 'subcompact')])\n",
      "OrderedDict([('', '108'), ('manufacturer', 'honda'), ('model', 'civic'), ('displ', '2'), ('year', '2008'), ('cyl', '4'), ('trans', 'manual(m6)'), ('drv', 'f'), ('cty', '21'), ('hwy', '29'), ('fl', 'p'), ('class', 'subcompact')])\n",
      "OrderedDict([('', '109'), ('manufacturer', 'hyundai'), ('model', 'sonata'), ('displ', '2.4'), ('year', '1999'), ('cyl', '4'), ('trans', 'auto(l4)'), ('drv', 'f'), ('cty', '18'), ('hwy', '26'), ('fl', 'r'), ('class', 'midsize')])\n",
      "OrderedDict([('', '110'), ('manufacturer', 'hyundai'), ('model', 'sonata'), ('displ', '2.4'), ('year', '1999'), ('cyl', '4'), ('trans', 'manual(m5)'), ('drv', 'f'), ('cty', '18'), ('hwy', '27'), ('fl', 'r'), ('class', 'midsize')])\n",
      "OrderedDict([('', '111'), ('manufacturer', 'hyundai'), ('model', 'sonata'), ('displ', '2.4'), ('year', '2008'), ('cyl', '4'), ('trans', 'auto(l4)'), ('drv', 'f'), ('cty', '21'), ('hwy', '30'), ('fl', 'r'), ('class', 'midsize')])\n",
      "OrderedDict([('', '112'), ('manufacturer', 'hyundai'), ('model', 'sonata'), ('displ', '2.4'), ('year', '2008'), ('cyl', '4'), ('trans', 'manual(m5)'), ('drv', 'f'), ('cty', '21'), ('hwy', '31'), ('fl', 'r'), ('class', 'midsize')])\n",
      "OrderedDict([('', '113'), ('manufacturer', 'hyundai'), ('model', 'sonata'), ('displ', '2.5'), ('year', '1999'), ('cyl', '6'), ('trans', 'auto(l4)'), ('drv', 'f'), ('cty', '18'), ('hwy', '26'), ('fl', 'r'), ('class', 'midsize')])\n",
      "OrderedDict([('', '114'), ('manufacturer', 'hyundai'), ('model', 'sonata'), ('displ', '2.5'), ('year', '1999'), ('cyl', '6'), ('trans', 'manual(m5)'), ('drv', 'f'), ('cty', '18'), ('hwy', '26'), ('fl', 'r'), ('class', 'midsize')])\n",
      "OrderedDict([('', '115'), ('manufacturer', 'hyundai'), ('model', 'sonata'), ('displ', '3.3'), ('year', '2008'), ('cyl', '6'), ('trans', 'auto(l5)'), ('drv', 'f'), ('cty', '19'), ('hwy', '28'), ('fl', 'r'), ('class', 'midsize')])\n",
      "OrderedDict([('', '116'), ('manufacturer', 'hyundai'), ('model', 'tiburon'), ('displ', '2'), ('year', '1999'), ('cyl', '4'), ('trans', 'auto(l4)'), ('drv', 'f'), ('cty', '19'), ('hwy', '26'), ('fl', 'r'), ('class', 'subcompact')])\n",
      "OrderedDict([('', '117'), ('manufacturer', 'hyundai'), ('model', 'tiburon'), ('displ', '2'), ('year', '1999'), ('cyl', '4'), ('trans', 'manual(m5)'), ('drv', 'f'), ('cty', '19'), ('hwy', '29'), ('fl', 'r'), ('class', 'subcompact')])\n",
      "OrderedDict([('', '118'), ('manufacturer', 'hyundai'), ('model', 'tiburon'), ('displ', '2'), ('year', '2008'), ('cyl', '4'), ('trans', 'manual(m5)'), ('drv', 'f'), ('cty', '20'), ('hwy', '28'), ('fl', 'r'), ('class', 'subcompact')])\n",
      "OrderedDict([('', '119'), ('manufacturer', 'hyundai'), ('model', 'tiburon'), ('displ', '2'), ('year', '2008'), ('cyl', '4'), ('trans', 'auto(l4)'), ('drv', 'f'), ('cty', '20'), ('hwy', '27'), ('fl', 'r'), ('class', 'subcompact')])\n",
      "OrderedDict([('', '120'), ('manufacturer', 'hyundai'), ('model', 'tiburon'), ('displ', '2.7'), ('year', '2008'), ('cyl', '6'), ('trans', 'auto(l4)'), ('drv', 'f'), ('cty', '17'), ('hwy', '24'), ('fl', 'r'), ('class', 'subcompact')])\n",
      "OrderedDict([('', '121'), ('manufacturer', 'hyundai'), ('model', 'tiburon'), ('displ', '2.7'), ('year', '2008'), ('cyl', '6'), ('trans', 'manual(m6)'), ('drv', 'f'), ('cty', '16'), ('hwy', '24'), ('fl', 'r'), ('class', 'subcompact')])\n",
      "OrderedDict([('', '122'), ('manufacturer', 'hyundai'), ('model', 'tiburon'), ('displ', '2.7'), ('year', '2008'), ('cyl', '6'), ('trans', 'manual(m5)'), ('drv', 'f'), ('cty', '17'), ('hwy', '24'), ('fl', 'r'), ('class', 'subcompact')])\n",
      "OrderedDict([('', '123'), ('manufacturer', 'jeep'), ('model', 'grand cherokee 4wd'), ('displ', '3'), ('year', '2008'), ('cyl', '6'), ('trans', 'auto(l5)'), ('drv', '4'), ('cty', '17'), ('hwy', '22'), ('fl', 'd'), ('class', 'suv')])\n",
      "OrderedDict([('', '124'), ('manufacturer', 'jeep'), ('model', 'grand cherokee 4wd'), ('displ', '3.7'), ('year', '2008'), ('cyl', '6'), ('trans', 'auto(l5)'), ('drv', '4'), ('cty', '15'), ('hwy', '19'), ('fl', 'r'), ('class', 'suv')])\n",
      "OrderedDict([('', '125'), ('manufacturer', 'jeep'), ('model', 'grand cherokee 4wd'), ('displ', '4'), ('year', '1999'), ('cyl', '6'), ('trans', 'auto(l4)'), ('drv', '4'), ('cty', '15'), ('hwy', '20'), ('fl', 'r'), ('class', 'suv')])\n",
      "OrderedDict([('', '126'), ('manufacturer', 'jeep'), ('model', 'grand cherokee 4wd'), ('displ', '4.7'), ('year', '1999'), ('cyl', '8'), ('trans', 'auto(l4)'), ('drv', '4'), ('cty', '14'), ('hwy', '17'), ('fl', 'r'), ('class', 'suv')])\n",
      "OrderedDict([('', '127'), ('manufacturer', 'jeep'), ('model', 'grand cherokee 4wd'), ('displ', '4.7'), ('year', '2008'), ('cyl', '8'), ('trans', 'auto(l5)'), ('drv', '4'), ('cty', '9'), ('hwy', '12'), ('fl', 'e'), ('class', 'suv')])\n",
      "OrderedDict([('', '128'), ('manufacturer', 'jeep'), ('model', 'grand cherokee 4wd'), ('displ', '4.7'), ('year', '2008'), ('cyl', '8'), ('trans', 'auto(l5)'), ('drv', '4'), ('cty', '14'), ('hwy', '19'), ('fl', 'r'), ('class', 'suv')])\n",
      "OrderedDict([('', '129'), ('manufacturer', 'jeep'), ('model', 'grand cherokee 4wd'), ('displ', '5.7'), ('year', '2008'), ('cyl', '8'), ('trans', 'auto(l5)'), ('drv', '4'), ('cty', '13'), ('hwy', '18'), ('fl', 'r'), ('class', 'suv')])\n",
      "OrderedDict([('', '130'), ('manufacturer', 'jeep'), ('model', 'grand cherokee 4wd'), ('displ', '6.1'), ('year', '2008'), ('cyl', '8'), ('trans', 'auto(l5)'), ('drv', '4'), ('cty', '11'), ('hwy', '14'), ('fl', 'p'), ('class', 'suv')])\n",
      "OrderedDict([('', '131'), ('manufacturer', 'land rover'), ('model', 'range rover'), ('displ', '4'), ('year', '1999'), ('cyl', '8'), ('trans', 'auto(l4)'), ('drv', '4'), ('cty', '11'), ('hwy', '15'), ('fl', 'p'), ('class', 'suv')])\n",
      "OrderedDict([('', '132'), ('manufacturer', 'land rover'), ('model', 'range rover'), ('displ', '4.2'), ('year', '2008'), ('cyl', '8'), ('trans', 'auto(s6)'), ('drv', '4'), ('cty', '12'), ('hwy', '18'), ('fl', 'r'), ('class', 'suv')])\n",
      "OrderedDict([('', '133'), ('manufacturer', 'land rover'), ('model', 'range rover'), ('displ', '4.4'), ('year', '2008'), ('cyl', '8'), ('trans', 'auto(s6)'), ('drv', '4'), ('cty', '12'), ('hwy', '18'), ('fl', 'r'), ('class', 'suv')])\n",
      "OrderedDict([('', '134'), ('manufacturer', 'land rover'), ('model', 'range rover'), ('displ', '4.6'), ('year', '1999'), ('cyl', '8'), ('trans', 'auto(l4)'), ('drv', '4'), ('cty', '11'), ('hwy', '15'), ('fl', 'p'), ('class', 'suv')])\n",
      "OrderedDict([('', '135'), ('manufacturer', 'lincoln'), ('model', 'navigator 2wd'), ('displ', '5.4'), ('year', '1999'), ('cyl', '8'), ('trans', 'auto(l4)'), ('drv', 'r'), ('cty', '11'), ('hwy', '17'), ('fl', 'r'), ('class', 'suv')])\n",
      "OrderedDict([('', '136'), ('manufacturer', 'lincoln'), ('model', 'navigator 2wd'), ('displ', '5.4'), ('year', '1999'), ('cyl', '8'), ('trans', 'auto(l4)'), ('drv', 'r'), ('cty', '11'), ('hwy', '16'), ('fl', 'p'), ('class', 'suv')])\n",
      "OrderedDict([('', '137'), ('manufacturer', 'lincoln'), ('model', 'navigator 2wd'), ('displ', '5.4'), ('year', '2008'), ('cyl', '8'), ('trans', 'auto(l6)'), ('drv', 'r'), ('cty', '12'), ('hwy', '18'), ('fl', 'r'), ('class', 'suv')])\n",
      "OrderedDict([('', '138'), ('manufacturer', 'mercury'), ('model', 'mountaineer 4wd'), ('displ', '4'), ('year', '1999'), ('cyl', '6'), ('trans', 'auto(l5)'), ('drv', '4'), ('cty', '14'), ('hwy', '17'), ('fl', 'r'), ('class', 'suv')])\n",
      "OrderedDict([('', '139'), ('manufacturer', 'mercury'), ('model', 'mountaineer 4wd'), ('displ', '4'), ('year', '2008'), ('cyl', '6'), ('trans', 'auto(l5)'), ('drv', '4'), ('cty', '13'), ('hwy', '19'), ('fl', 'r'), ('class', 'suv')])\n",
      "OrderedDict([('', '140'), ('manufacturer', 'mercury'), ('model', 'mountaineer 4wd'), ('displ', '4.6'), ('year', '2008'), ('cyl', '8'), ('trans', 'auto(l6)'), ('drv', '4'), ('cty', '13'), ('hwy', '19'), ('fl', 'r'), ('class', 'suv')])\n",
      "OrderedDict([('', '141'), ('manufacturer', 'mercury'), ('model', 'mountaineer 4wd'), ('displ', '5'), ('year', '1999'), ('cyl', '8'), ('trans', 'auto(l4)'), ('drv', '4'), ('cty', '13'), ('hwy', '17'), ('fl', 'r'), ('class', 'suv')])\n",
      "OrderedDict([('', '142'), ('manufacturer', 'nissan'), ('model', 'altima'), ('displ', '2.4'), ('year', '1999'), ('cyl', '4'), ('trans', 'manual(m5)'), ('drv', 'f'), ('cty', '21'), ('hwy', '29'), ('fl', 'r'), ('class', 'compact')])\n",
      "OrderedDict([('', '143'), ('manufacturer', 'nissan'), ('model', 'altima'), ('displ', '2.4'), ('year', '1999'), ('cyl', '4'), ('trans', 'auto(l4)'), ('drv', 'f'), ('cty', '19'), ('hwy', '27'), ('fl', 'r'), ('class', 'compact')])\n",
      "OrderedDict([('', '144'), ('manufacturer', 'nissan'), ('model', 'altima'), ('displ', '2.5'), ('year', '2008'), ('cyl', '4'), ('trans', 'auto(av)'), ('drv', 'f'), ('cty', '23'), ('hwy', '31'), ('fl', 'r'), ('class', 'midsize')])\n",
      "OrderedDict([('', '145'), ('manufacturer', 'nissan'), ('model', 'altima'), ('displ', '2.5'), ('year', '2008'), ('cyl', '4'), ('trans', 'manual(m6)'), ('drv', 'f'), ('cty', '23'), ('hwy', '32'), ('fl', 'r'), ('class', 'midsize')])\n",
      "OrderedDict([('', '146'), ('manufacturer', 'nissan'), ('model', 'altima'), ('displ', '3.5'), ('year', '2008'), ('cyl', '6'), ('trans', 'manual(m6)'), ('drv', 'f'), ('cty', '19'), ('hwy', '27'), ('fl', 'p'), ('class', 'midsize')])\n",
      "OrderedDict([('', '147'), ('manufacturer', 'nissan'), ('model', 'altima'), ('displ', '3.5'), ('year', '2008'), ('cyl', '6'), ('trans', 'auto(av)'), ('drv', 'f'), ('cty', '19'), ('hwy', '26'), ('fl', 'p'), ('class', 'midsize')])\n",
      "OrderedDict([('', '148'), ('manufacturer', 'nissan'), ('model', 'maxima'), ('displ', '3'), ('year', '1999'), ('cyl', '6'), ('trans', 'auto(l4)'), ('drv', 'f'), ('cty', '18'), ('hwy', '26'), ('fl', 'r'), ('class', 'midsize')])\n",
      "OrderedDict([('', '149'), ('manufacturer', 'nissan'), ('model', 'maxima'), ('displ', '3'), ('year', '1999'), ('cyl', '6'), ('trans', 'manual(m5)'), ('drv', 'f'), ('cty', '19'), ('hwy', '25'), ('fl', 'r'), ('class', 'midsize')])\n",
      "OrderedDict([('', '150'), ('manufacturer', 'nissan'), ('model', 'maxima'), ('displ', '3.5'), ('year', '2008'), ('cyl', '6'), ('trans', 'auto(av)'), ('drv', 'f'), ('cty', '19'), ('hwy', '25'), ('fl', 'p'), ('class', 'midsize')])\n",
      "OrderedDict([('', '151'), ('manufacturer', 'nissan'), ('model', 'pathfinder 4wd'), ('displ', '3.3'), ('year', '1999'), ('cyl', '6'), ('trans', 'auto(l4)'), ('drv', '4'), ('cty', '14'), ('hwy', '17'), ('fl', 'r'), ('class', 'suv')])\n",
      "OrderedDict([('', '152'), ('manufacturer', 'nissan'), ('model', 'pathfinder 4wd'), ('displ', '3.3'), ('year', '1999'), ('cyl', '6'), ('trans', 'manual(m5)'), ('drv', '4'), ('cty', '15'), ('hwy', '17'), ('fl', 'r'), ('class', 'suv')])\n",
      "OrderedDict([('', '153'), ('manufacturer', 'nissan'), ('model', 'pathfinder 4wd'), ('displ', '4'), ('year', '2008'), ('cyl', '6'), ('trans', 'auto(l5)'), ('drv', '4'), ('cty', '14'), ('hwy', '20'), ('fl', 'p'), ('class', 'suv')])\n",
      "OrderedDict([('', '154'), ('manufacturer', 'nissan'), ('model', 'pathfinder 4wd'), ('displ', '5.6'), ('year', '2008'), ('cyl', '8'), ('trans', 'auto(s5)'), ('drv', '4'), ('cty', '12'), ('hwy', '18'), ('fl', 'p'), ('class', 'suv')])\n",
      "OrderedDict([('', '155'), ('manufacturer', 'silver'), ('model', 'grand prix'), ('displ', '3.1'), ('year', '1999'), ('cyl', '6'), ('trans', 'auto(l4)'), ('drv', 'f'), ('cty', '18'), ('hwy', '26'), ('fl', 'r'), ('class', 'midsize')])\n",
      "OrderedDict([('', '156'), ('manufacturer', 'silver'), ('model', 'grand prix'), ('displ', '3.8'), ('year', '1999'), ('cyl', '6'), ('trans', 'auto(l4)'), ('drv', 'f'), ('cty', '16'), ('hwy', '26'), ('fl', 'p'), ('class', 'midsize')])\n",
      "OrderedDict([('', '157'), ('manufacturer', 'silver'), ('model', 'grand prix'), ('displ', '3.8'), ('year', '1999'), ('cyl', '6'), ('trans', 'auto(l4)'), ('drv', 'f'), ('cty', '17'), ('hwy', '27'), ('fl', 'r'), ('class', 'midsize')])\n",
      "OrderedDict([('', '158'), ('manufacturer', 'silver'), ('model', 'grand prix'), ('displ', '3.8'), ('year', '2008'), ('cyl', '6'), ('trans', 'auto(l4)'), ('drv', 'f'), ('cty', '18'), ('hwy', '28'), ('fl', 'r'), ('class', 'midsize')])\n",
      "OrderedDict([('', '159'), ('manufacturer', 'silver'), ('model', 'grand prix'), ('displ', '5.3'), ('year', '2008'), ('cyl', '8'), ('trans', 'auto(s4)'), ('drv', 'f'), ('cty', '16'), ('hwy', '25'), ('fl', 'p'), ('class', 'midsize')])\n",
      "OrderedDict([('', '160'), ('manufacturer', 'subbie'), ('model', 'forester awd'), ('displ', '2.5'), ('year', '1999'), ('cyl', '4'), ('trans', 'manual(m5)'), ('drv', '4'), ('cty', '18'), ('hwy', '25'), ('fl', 'r'), ('class', 'suv')])\n",
      "OrderedDict([('', '161'), ('manufacturer', 'subbie'), ('model', 'forester awd'), ('displ', '2.5'), ('year', '1999'), ('cyl', '4'), ('trans', 'auto(l4)'), ('drv', '4'), ('cty', '18'), ('hwy', '24'), ('fl', 'r'), ('class', 'suv')])\n",
      "OrderedDict([('', '162'), ('manufacturer', 'subbie'), ('model', 'forester awd'), ('displ', '2.5'), ('year', '2008'), ('cyl', '4'), ('trans', 'manual(m5)'), ('drv', '4'), ('cty', '20'), ('hwy', '27'), ('fl', 'r'), ('class', 'suv')])\n",
      "OrderedDict([('', '163'), ('manufacturer', 'subbie'), ('model', 'forester awd'), ('displ', '2.5'), ('year', '2008'), ('cyl', '4'), ('trans', 'manual(m5)'), ('drv', '4'), ('cty', '19'), ('hwy', '25'), ('fl', 'p'), ('class', 'suv')])\n",
      "OrderedDict([('', '164'), ('manufacturer', 'subbie'), ('model', 'forester awd'), ('displ', '2.5'), ('year', '2008'), ('cyl', '4'), ('trans', 'auto(l4)'), ('drv', '4'), ('cty', '20'), ('hwy', '26'), ('fl', 'r'), ('class', 'suv')])\n",
      "OrderedDict([('', '165'), ('manufacturer', 'subbie'), ('model', 'forester awd'), ('displ', '2.5'), ('year', '2008'), ('cyl', '4'), ('trans', 'auto(l4)'), ('drv', '4'), ('cty', '18'), ('hwy', '23'), ('fl', 'p'), ('class', 'suv')])\n",
      "OrderedDict([('', '166'), ('manufacturer', 'subbie'), ('model', 'impreza awd'), ('displ', '2.2'), ('year', '1999'), ('cyl', '4'), ('trans', 'auto(l4)'), ('drv', '4'), ('cty', '21'), ('hwy', '26'), ('fl', 'r'), ('class', 'subcompact')])\n",
      "OrderedDict([('', '167'), ('manufacturer', 'subbie'), ('model', 'impreza awd'), ('displ', '2.2'), ('year', '1999'), ('cyl', '4'), ('trans', 'manual(m5)'), ('drv', '4'), ('cty', '19'), ('hwy', '26'), ('fl', 'r'), ('class', 'subcompact')])\n",
      "OrderedDict([('', '168'), ('manufacturer', 'subbie'), ('model', 'impreza awd'), ('displ', '2.5'), ('year', '1999'), ('cyl', '4'), ('trans', 'manual(m5)'), ('drv', '4'), ('cty', '19'), ('hwy', '26'), ('fl', 'r'), ('class', 'subcompact')])\n",
      "OrderedDict([('', '169'), ('manufacturer', 'subbie'), ('model', 'impreza awd'), ('displ', '2.5'), ('year', '1999'), ('cyl', '4'), ('trans', 'auto(l4)'), ('drv', '4'), ('cty', '19'), ('hwy', '26'), ('fl', 'r'), ('class', 'subcompact')])\n",
      "OrderedDict([('', '170'), ('manufacturer', 'subbie'), ('model', 'impreza awd'), ('displ', '2.5'), ('year', '2008'), ('cyl', '4'), ('trans', 'auto(s4)'), ('drv', '4'), ('cty', '20'), ('hwy', '25'), ('fl', 'p'), ('class', 'compact')])\n",
      "OrderedDict([('', '171'), ('manufacturer', 'subbie'), ('model', 'impreza awd'), ('displ', '2.5'), ('year', '2008'), ('cyl', '4'), ('trans', 'auto(s4)'), ('drv', '4'), ('cty', '20'), ('hwy', '27'), ('fl', 'r'), ('class', 'compact')])\n",
      "OrderedDict([('', '172'), ('manufacturer', 'subbie'), ('model', 'impreza awd'), ('displ', '2.5'), ('year', '2008'), ('cyl', '4'), ('trans', 'manual(m5)'), ('drv', '4'), ('cty', '19'), ('hwy', '25'), ('fl', 'p'), ('class', 'compact')])\n",
      "OrderedDict([('', '173'), ('manufacturer', 'subbie'), ('model', 'impreza awd'), ('displ', '2.5'), ('year', '2008'), ('cyl', '4'), ('trans', 'manual(m5)'), ('drv', '4'), ('cty', '20'), ('hwy', '27'), ('fl', 'r'), ('class', 'compact')])\n",
      "OrderedDict([('', '174'), ('manufacturer', 'tinker'), ('model', '4runner 4wd'), ('displ', '2.7'), ('year', '1999'), ('cyl', '4'), ('trans', 'manual(m5)'), ('drv', '4'), ('cty', '15'), ('hwy', '20'), ('fl', 'r'), ('class', 'suv')])\n",
      "OrderedDict([('', '175'), ('manufacturer', 'tinker'), ('model', '4runner 4wd'), ('displ', '2.7'), ('year', '1999'), ('cyl', '4'), ('trans', 'auto(l4)'), ('drv', '4'), ('cty', '16'), ('hwy', '20'), ('fl', 'r'), ('class', 'suv')])\n",
      "OrderedDict([('', '176'), ('manufacturer', 'tinker'), ('model', '4runner 4wd'), ('displ', '3.4'), ('year', '1999'), ('cyl', '6'), ('trans', 'auto(l4)'), ('drv', '4'), ('cty', '15'), ('hwy', '19'), ('fl', 'r'), ('class', 'suv')])\n",
      "OrderedDict([('', '177'), ('manufacturer', 'tinker'), ('model', '4runner 4wd'), ('displ', '3.4'), ('year', '1999'), ('cyl', '6'), ('trans', 'manual(m5)'), ('drv', '4'), ('cty', '15'), ('hwy', '17'), ('fl', 'r'), ('class', 'suv')])\n",
      "OrderedDict([('', '178'), ('manufacturer', 'tinker'), ('model', '4runner 4wd'), ('displ', '4'), ('year', '2008'), ('cyl', '6'), ('trans', 'auto(l5)'), ('drv', '4'), ('cty', '16'), ('hwy', '20'), ('fl', 'r'), ('class', 'suv')])\n",
      "OrderedDict([('', '179'), ('manufacturer', 'tinker'), ('model', '4runner 4wd'), ('displ', '4.7'), ('year', '2008'), ('cyl', '8'), ('trans', 'auto(l5)'), ('drv', '4'), ('cty', '14'), ('hwy', '17'), ('fl', 'r'), ('class', 'suv')])\n",
      "OrderedDict([('', '180'), ('manufacturer', 'tinker'), ('model', 'camry'), ('displ', '2.2'), ('year', '1999'), ('cyl', '4'), ('trans', 'manual(m5)'), ('drv', 'f'), ('cty', '21'), ('hwy', '29'), ('fl', 'r'), ('class', 'midsize')])\n",
      "OrderedDict([('', '181'), ('manufacturer', 'tinker'), ('model', 'camry'), ('displ', '2.2'), ('year', '1999'), ('cyl', '4'), ('trans', 'auto(l4)'), ('drv', 'f'), ('cty', '21'), ('hwy', '27'), ('fl', 'r'), ('class', 'midsize')])\n",
      "OrderedDict([('', '182'), ('manufacturer', 'tinker'), ('model', 'camry'), ('displ', '2.4'), ('year', '2008'), ('cyl', '4'), ('trans', 'manual(m5)'), ('drv', 'f'), ('cty', '21'), ('hwy', '31'), ('fl', 'r'), ('class', 'midsize')])\n",
      "OrderedDict([('', '183'), ('manufacturer', 'tinker'), ('model', 'camry'), ('displ', '2.4'), ('year', '2008'), ('cyl', '4'), ('trans', 'auto(l5)'), ('drv', 'f'), ('cty', '21'), ('hwy', '31'), ('fl', 'r'), ('class', 'midsize')])\n",
      "OrderedDict([('', '184'), ('manufacturer', 'tinker'), ('model', 'camry'), ('displ', '3'), ('year', '1999'), ('cyl', '6'), ('trans', 'auto(l4)'), ('drv', 'f'), ('cty', '18'), ('hwy', '26'), ('fl', 'r'), ('class', 'midsize')])\n",
      "OrderedDict([('', '185'), ('manufacturer', 'tinker'), ('model', 'camry'), ('displ', '3'), ('year', '1999'), ('cyl', '6'), ('trans', 'manual(m5)'), ('drv', 'f'), ('cty', '18'), ('hwy', '26'), ('fl', 'r'), ('class', 'midsize')])\n",
      "OrderedDict([('', '186'), ('manufacturer', 'tinker'), ('model', 'camry'), ('displ', '3.5'), ('year', '2008'), ('cyl', '6'), ('trans', 'auto(s6)'), ('drv', 'f'), ('cty', '19'), ('hwy', '28'), ('fl', 'r'), ('class', 'midsize')])\n",
      "OrderedDict([('', '187'), ('manufacturer', 'tinker'), ('model', 'camry solara'), ('displ', '2.2'), ('year', '1999'), ('cyl', '4'), ('trans', 'auto(l4)'), ('drv', 'f'), ('cty', '21'), ('hwy', '27'), ('fl', 'r'), ('class', 'compact')])\n",
      "OrderedDict([('', '188'), ('manufacturer', 'tinker'), ('model', 'camry solara'), ('displ', '2.2'), ('year', '1999'), ('cyl', '4'), ('trans', 'manual(m5)'), ('drv', 'f'), ('cty', '21'), ('hwy', '29'), ('fl', 'r'), ('class', 'compact')])\n",
      "OrderedDict([('', '189'), ('manufacturer', 'tinker'), ('model', 'camry solara'), ('displ', '2.4'), ('year', '2008'), ('cyl', '4'), ('trans', 'manual(m5)'), ('drv', 'f'), ('cty', '21'), ('hwy', '31'), ('fl', 'r'), ('class', 'compact')])\n",
      "OrderedDict([('', '190'), ('manufacturer', 'tinker'), ('model', 'camry solara'), ('displ', '2.4'), ('year', '2008'), ('cyl', '4'), ('trans', 'auto(s5)'), ('drv', 'f'), ('cty', '22'), ('hwy', '31'), ('fl', 'r'), ('class', 'compact')])\n",
      "OrderedDict([('', '191'), ('manufacturer', 'tinker'), ('model', 'camry solara'), ('displ', '3'), ('year', '1999'), ('cyl', '6'), ('trans', 'auto(l4)'), ('drv', 'f'), ('cty', '18'), ('hwy', '26'), ('fl', 'r'), ('class', 'compact')])\n",
      "OrderedDict([('', '192'), ('manufacturer', 'tinker'), ('model', 'camry solara'), ('displ', '3'), ('year', '1999'), ('cyl', '6'), ('trans', 'manual(m5)'), ('drv', 'f'), ('cty', '18'), ('hwy', '26'), ('fl', 'r'), ('class', 'compact')])\n",
      "OrderedDict([('', '193'), ('manufacturer', 'tinker'), ('model', 'camry solara'), ('displ', '3.3'), ('year', '2008'), ('cyl', '6'), ('trans', 'auto(s5)'), ('drv', 'f'), ('cty', '18'), ('hwy', '27'), ('fl', 'r'), ('class', 'compact')])\n",
      "OrderedDict([('', '194'), ('manufacturer', 'tinker'), ('model', 'corolla'), ('displ', '1.8'), ('year', '1999'), ('cyl', '4'), ('trans', 'auto(l3)'), ('drv', 'f'), ('cty', '24'), ('hwy', '30'), ('fl', 'r'), ('class', 'compact')])\n",
      "OrderedDict([('', '195'), ('manufacturer', 'tinker'), ('model', 'corolla'), ('displ', '1.8'), ('year', '1999'), ('cyl', '4'), ('trans', 'auto(l4)'), ('drv', 'f'), ('cty', '24'), ('hwy', '33'), ('fl', 'r'), ('class', 'compact')])\n",
      "OrderedDict([('', '196'), ('manufacturer', 'tinker'), ('model', 'corolla'), ('displ', '1.8'), ('year', '1999'), ('cyl', '4'), ('trans', 'manual(m5)'), ('drv', 'f'), ('cty', '26'), ('hwy', '35'), ('fl', 'r'), ('class', 'compact')])\n",
      "OrderedDict([('', '197'), ('manufacturer', 'tinker'), ('model', 'corolla'), ('displ', '1.8'), ('year', '2008'), ('cyl', '4'), ('trans', 'manual(m5)'), ('drv', 'f'), ('cty', '28'), ('hwy', '37'), ('fl', 'r'), ('class', 'compact')])\n",
      "OrderedDict([('', '198'), ('manufacturer', 'tinker'), ('model', 'corolla'), ('displ', '1.8'), ('year', '2008'), ('cyl', '4'), ('trans', 'auto(l4)'), ('drv', 'f'), ('cty', '26'), ('hwy', '35'), ('fl', 'r'), ('class', 'compact')])\n",
      "OrderedDict([('', '199'), ('manufacturer', 'tinker'), ('model', 'land cruiser wagon 4wd'), ('displ', '4.7'), ('year', '1999'), ('cyl', '8'), ('trans', 'auto(l4)'), ('drv', '4'), ('cty', '11'), ('hwy', '15'), ('fl', 'r'), ('class', 'suv')])\n",
      "OrderedDict([('', '200'), ('manufacturer', 'tinker'), ('model', 'land cruiser wagon 4wd'), ('displ', '5.7'), ('year', '2008'), ('cyl', '8'), ('trans', 'auto(s6)'), ('drv', '4'), ('cty', '13'), ('hwy', '18'), ('fl', 'r'), ('class', 'suv')])\n",
      "OrderedDict([('', '201'), ('manufacturer', 'tinker'), ('model', 'tinker tacoma 4wd'), ('displ', '2.7'), ('year', '1999'), ('cyl', '4'), ('trans', 'manual(m5)'), ('drv', '4'), ('cty', '15'), ('hwy', '20'), ('fl', 'r'), ('class', 'pickup')])\n",
      "OrderedDict([('', '202'), ('manufacturer', 'tinker'), ('model', 'tinker tacoma 4wd'), ('displ', '2.7'), ('year', '1999'), ('cyl', '4'), ('trans', 'auto(l4)'), ('drv', '4'), ('cty', '16'), ('hwy', '20'), ('fl', 'r'), ('class', 'pickup')])\n",
      "OrderedDict([('', '203'), ('manufacturer', 'tinker'), ('model', 'tinker tacoma 4wd'), ('displ', '2.7'), ('year', '2008'), ('cyl', '4'), ('trans', 'manual(m5)'), ('drv', '4'), ('cty', '17'), ('hwy', '22'), ('fl', 'r'), ('class', 'pickup')])\n",
      "OrderedDict([('', '204'), ('manufacturer', 'tinker'), ('model', 'tinker tacoma 4wd'), ('displ', '3.4'), ('year', '1999'), ('cyl', '6'), ('trans', 'manual(m5)'), ('drv', '4'), ('cty', '15'), ('hwy', '17'), ('fl', 'r'), ('class', 'pickup')])\n",
      "OrderedDict([('', '205'), ('manufacturer', 'tinker'), ('model', 'tinker tacoma 4wd'), ('displ', '3.4'), ('year', '1999'), ('cyl', '6'), ('trans', 'auto(l4)'), ('drv', '4'), ('cty', '15'), ('hwy', '19'), ('fl', 'r'), ('class', 'pickup')])\n",
      "OrderedDict([('', '206'), ('manufacturer', 'tinker'), ('model', 'tinker tacoma 4wd'), ('displ', '4'), ('year', '2008'), ('cyl', '6'), ('trans', 'manual(m6)'), ('drv', '4'), ('cty', '15'), ('hwy', '18'), ('fl', 'r'), ('class', 'pickup')])\n",
      "OrderedDict([('', '207'), ('manufacturer', 'tinker'), ('model', 'tinker tacoma 4wd'), ('displ', '4'), ('year', '2008'), ('cyl', '6'), ('trans', 'auto(l5)'), ('drv', '4'), ('cty', '16'), ('hwy', '20'), ('fl', 'r'), ('class', 'pickup')])\n",
      "OrderedDict([('', '208'), ('manufacturer', 'volks'), ('model', 'gild'), ('displ', '2'), ('year', '1999'), ('cyl', '4'), ('trans', 'manual(m5)'), ('drv', 'f'), ('cty', '21'), ('hwy', '29'), ('fl', 'r'), ('class', 'compact')])\n",
      "OrderedDict([('', '209'), ('manufacturer', 'volks'), ('model', 'gild'), ('displ', '2'), ('year', '1999'), ('cyl', '4'), ('trans', 'auto(l4)'), ('drv', 'f'), ('cty', '19'), ('hwy', '26'), ('fl', 'r'), ('class', 'compact')])\n",
      "OrderedDict([('', '210'), ('manufacturer', 'volks'), ('model', 'gild'), ('displ', '2'), ('year', '2008'), ('cyl', '4'), ('trans', 'manual(m6)'), ('drv', 'f'), ('cty', '21'), ('hwy', '29'), ('fl', 'p'), ('class', 'compact')])\n",
      "OrderedDict([('', '211'), ('manufacturer', 'volks'), ('model', 'gild'), ('displ', '2'), ('year', '2008'), ('cyl', '4'), ('trans', 'auto(s6)'), ('drv', 'f'), ('cty', '22'), ('hwy', '29'), ('fl', 'p'), ('class', 'compact')])\n",
      "OrderedDict([('', '212'), ('manufacturer', 'volks'), ('model', 'gild'), ('displ', '2.8'), ('year', '1999'), ('cyl', '6'), ('trans', 'manual(m5)'), ('drv', 'f'), ('cty', '17'), ('hwy', '24'), ('fl', 'r'), ('class', 'compact')])\n",
      "OrderedDict([('', '213'), ('manufacturer', 'volks'), ('model', 'jetfast'), ('displ', '1.9'), ('year', '1999'), ('cyl', '4'), ('trans', 'manual(m5)'), ('drv', 'f'), ('cty', '33'), ('hwy', '44'), ('fl', 'd'), ('class', 'compact')])\n",
      "OrderedDict([('', '214'), ('manufacturer', 'volks'), ('model', 'jetfast'), ('displ', '2'), ('year', '1999'), ('cyl', '4'), ('trans', 'manual(m5)'), ('drv', 'f'), ('cty', '21'), ('hwy', '29'), ('fl', 'r'), ('class', 'compact')])\n",
      "OrderedDict([('', '215'), ('manufacturer', 'volks'), ('model', 'jetfast'), ('displ', '2'), ('year', '1999'), ('cyl', '4'), ('trans', 'auto(l4)'), ('drv', 'f'), ('cty', '19'), ('hwy', '26'), ('fl', 'r'), ('class', 'compact')])\n",
      "OrderedDict([('', '216'), ('manufacturer', 'volks'), ('model', 'jetfast'), ('displ', '2'), ('year', '2008'), ('cyl', '4'), ('trans', 'auto(s6)'), ('drv', 'f'), ('cty', '22'), ('hwy', '29'), ('fl', 'p'), ('class', 'compact')])\n",
      "OrderedDict([('', '217'), ('manufacturer', 'volks'), ('model', 'jetfast'), ('displ', '2'), ('year', '2008'), ('cyl', '4'), ('trans', 'manual(m6)'), ('drv', 'f'), ('cty', '21'), ('hwy', '29'), ('fl', 'p'), ('class', 'compact')])\n",
      "OrderedDict([('', '218'), ('manufacturer', 'volks'), ('model', 'jetfast'), ('displ', '2.5'), ('year', '2008'), ('cyl', '5'), ('trans', 'auto(s6)'), ('drv', 'f'), ('cty', '21'), ('hwy', '29'), ('fl', 'r'), ('class', 'compact')])\n",
      "OrderedDict([('', '219'), ('manufacturer', 'volks'), ('model', 'jetfast'), ('displ', '2.5'), ('year', '2008'), ('cyl', '5'), ('trans', 'manual(m5)'), ('drv', 'f'), ('cty', '21'), ('hwy', '29'), ('fl', 'r'), ('class', 'compact')])\n",
      "OrderedDict([('', '220'), ('manufacturer', 'volks'), ('model', 'jetfast'), ('displ', '2.8'), ('year', '1999'), ('cyl', '6'), ('trans', 'auto(l4)'), ('drv', 'f'), ('cty', '16'), ('hwy', '23'), ('fl', 'r'), ('class', 'compact')])\n",
      "OrderedDict([('', '221'), ('manufacturer', 'volks'), ('model', 'jetfast'), ('displ', '2.8'), ('year', '1999'), ('cyl', '6'), ('trans', 'manual(m5)'), ('drv', 'f'), ('cty', '17'), ('hwy', '24'), ('fl', 'r'), ('class', 'compact')])\n",
      "OrderedDict([('', '222'), ('manufacturer', 'volks'), ('model', 'old beetle'), ('displ', '1.9'), ('year', '1999'), ('cyl', '4'), ('trans', 'manual(m5)'), ('drv', 'f'), ('cty', '35'), ('hwy', '44'), ('fl', 'd'), ('class', 'subcompact')])\n",
      "OrderedDict([('', '223'), ('manufacturer', 'volks'), ('model', 'old beetle'), ('displ', '1.9'), ('year', '1999'), ('cyl', '4'), ('trans', 'auto(l4)'), ('drv', 'f'), ('cty', '29'), ('hwy', '41'), ('fl', 'd'), ('class', 'subcompact')])\n",
      "OrderedDict([('', '224'), ('manufacturer', 'volks'), ('model', 'old beetle'), ('displ', '2'), ('year', '1999'), ('cyl', '4'), ('trans', 'manual(m5)'), ('drv', 'f'), ('cty', '21'), ('hwy', '29'), ('fl', 'r'), ('class', 'subcompact')])\n",
      "OrderedDict([('', '225'), ('manufacturer', 'volks'), ('model', 'old beetle'), ('displ', '2'), ('year', '1999'), ('cyl', '4'), ('trans', 'auto(l4)'), ('drv', 'f'), ('cty', '19'), ('hwy', '26'), ('fl', 'r'), ('class', 'subcompact')])\n",
      "OrderedDict([('', '226'), ('manufacturer', 'volks'), ('model', 'old beetle'), ('displ', '2.5'), ('year', '2008'), ('cyl', '5'), ('trans', 'manual(m5)'), ('drv', 'f'), ('cty', '20'), ('hwy', '28'), ('fl', 'r'), ('class', 'subcompact')])\n",
      "OrderedDict([('', '227'), ('manufacturer', 'volks'), ('model', 'old beetle'), ('displ', '2.5'), ('year', '2008'), ('cyl', '5'), ('trans', 'auto(s6)'), ('drv', 'f'), ('cty', '20'), ('hwy', '29'), ('fl', 'r'), ('class', 'subcompact')])\n",
      "OrderedDict([('', '228'), ('manufacturer', 'volks'), ('model', 'box'), ('displ', '1.8'), ('year', '1999'), ('cyl', '4'), ('trans', 'manual(m5)'), ('drv', 'f'), ('cty', '21'), ('hwy', '29'), ('fl', 'p'), ('class', 'midsize')])\n",
      "OrderedDict([('', '229'), ('manufacturer', 'volks'), ('model', 'box'), ('displ', '1.8'), ('year', '1999'), ('cyl', '4'), ('trans', 'auto(l5)'), ('drv', 'f'), ('cty', '18'), ('hwy', '29'), ('fl', 'p'), ('class', 'midsize')])\n",
      "OrderedDict([('', '230'), ('manufacturer', 'volks'), ('model', 'box'), ('displ', '2'), ('year', '2008'), ('cyl', '4'), ('trans', 'auto(s6)'), ('drv', 'f'), ('cty', '19'), ('hwy', '28'), ('fl', 'p'), ('class', 'midsize')])\n",
      "OrderedDict([('', '231'), ('manufacturer', 'volks'), ('model', 'box'), ('displ', '2'), ('year', '2008'), ('cyl', '4'), ('trans', 'manual(m6)'), ('drv', 'f'), ('cty', '21'), ('hwy', '29'), ('fl', 'p'), ('class', 'midsize')])\n",
      "OrderedDict([('', '232'), ('manufacturer', 'volks'), ('model', 'box'), ('displ', '2.8'), ('year', '1999'), ('cyl', '6'), ('trans', 'auto(l5)'), ('drv', 'f'), ('cty', '16'), ('hwy', '26'), ('fl', 'p'), ('class', 'midsize')])\n",
      "OrderedDict([('', '233'), ('manufacturer', 'volks'), ('model', 'box'), ('displ', '2.8'), ('year', '1999'), ('cyl', '6'), ('trans', 'manual(m5)'), ('drv', 'f'), ('cty', '18'), ('hwy', '26'), ('fl', 'p'), ('class', 'midsize')])\n",
      "OrderedDict([('', '234'), ('manufacturer', 'volks'), ('model', 'box'), ('displ', '3.6'), ('year', '2008'), ('cyl', '6'), ('trans', 'auto(s6)'), ('drv', 'f'), ('cty', '17'), ('hwy', '26'), ('fl', 'p'), ('class', 'midsize')])\n"
     ]
    }
   ],
   "source": [
    "for d in mpg:\n",
    "    print(d)"
   ]
  },
  {
   "cell_type": "code",
   "execution_count": 83,
   "metadata": {},
   "outputs": [
    {
     "name": "stdout",
     "output_type": "stream",
     "text": [
      "<class 'list'>\n"
     ]
    },
    {
     "data": {
      "text/plain": [
       "[1378]"
      ]
     },
     "execution_count": 83,
     "metadata": {},
     "output_type": "execute_result"
    }
   ],
   "source": [
    "# remember everything in our file comes in as a string. for calculations we must cast our string to numbers\n",
    "# sum the total number of cylinders across all cars\n",
    "a = []\n",
    "print(type(a))\n",
    "a.append(sum(int(d['cyl']) for d in mpg))\n",
    "a"
   ]
  },
  {
   "cell_type": "code",
   "execution_count": 84,
   "metadata": {},
   "outputs": [
    {
     "data": {
      "text/plain": [
       "[1378, 5.889]"
      ]
     },
     "execution_count": 84,
     "metadata": {},
     "output_type": "execute_result"
    }
   ],
   "source": [
    "# what if you wanted to calculate the average number of cylinders for all the cars?\n",
    "# write your query\n",
    "a.append(sum(int(d['cyl']) for d in mpg)/len(mpg))\n",
    "a"
   ]
  },
  {
   "cell_type": "code",
   "execution_count": 85,
   "metadata": {},
   "outputs": [
    {
     "data": {
      "text/plain": [
       "{'4', '5', '6', '8'}"
      ]
     },
     "execution_count": 85,
     "metadata": {},
     "output_type": "execute_result"
    }
   ],
   "source": [
    "# what if i want to knoe how many different numbers of cylinders there are?\n",
    "# we can calculate create a set of different values- a set is unordered and the values are unique\n",
    "cylinders = set(m['cyl'] for m in mpg)\n",
    "cylinders"
   ]
  },
  {
   "cell_type": "raw",
   "metadata": {},
   "source": [
    "type(cylinders)"
   ]
  },
  {
   "cell_type": "code",
   "execution_count": 86,
   "metadata": {},
   "outputs": [],
   "source": [
    "# what if i wanted to know the different classes?\n",
    "# write the query.\n",
    "classes = set(m['class'] for m in mpg)"
   ]
  },
  {
   "cell_type": "code",
   "execution_count": 87,
   "metadata": {},
   "outputs": [
    {
     "data": {
      "text/plain": [
       "{'2seater', 'compact', 'midsize', 'minivan', 'pickup', 'subcompact', 'suv'}"
      ]
     },
     "execution_count": 87,
     "metadata": {},
     "output_type": "execute_result"
    }
   ],
   "source": [
    "classes"
   ]
  },
  {
   "cell_type": "code",
   "execution_count": 114,
   "metadata": {},
   "outputs": [
    {
     "data": {
      "text/plain": [
       "[('compact', 4.596),\n",
       " ('minivan', 5.818),\n",
       " ('pickup', 7.030),\n",
       " ('midsize', 5.317),\n",
       " ('subcompact', 5.029),\n",
       " ('2seater', 8.000),\n",
       " ('suv', 6.968)]"
      ]
     },
     "execution_count": 114,
     "metadata": {},
     "output_type": "execute_result"
    }
   ],
   "source": [
    "# average number of cylinders for each of these classes...\n",
    "ByClassAvgNumCylinders = []\n",
    "for cy in classes:\n",
    "    total_num_of_cylinders = 0\n",
    "    count_cylinders = 0\n",
    "    \n",
    "    for rec in mpg:\n",
    "        if rec['class'] == cy:\n",
    "            count_cylinders = count_cylinders + 1\n",
    "            total_num_of_cylinders = total_num_of_cylinders + float(rec['cyl'])\n",
    "    ByClassAvgNumCylinders.append((cy, total_num_of_cylinders/count_cylinders))\n",
    "ByClassAvgNumCylinders"
   ]
  },
  {
   "cell_type": "code",
   "execution_count": null,
   "metadata": {},
   "outputs": [],
   "source": [
    "a = []\n",
    "for x in ByClassAvgNumCylinders:\n",
    "    a.append(x[1])\n",
    "print(a)\n",
    "print(max(a))\n",
    "print(min(a))\n",
    "print(sum(a)/len(a))"
   ]
  },
  {
   "cell_type": "code",
   "execution_count": null,
   "metadata": {},
   "outputs": [],
   "source": [
    "ByClassAvgNumCylinders.sort(key =lamda x: x[0])\n"
   ]
  }
 ],
 "metadata": {
  "kernelspec": {
   "display_name": "Python 3",
   "language": "python",
   "name": "python3"
  },
  "language_info": {
   "codemirror_mode": {
    "name": "ipython",
    "version": 3
   },
   "file_extension": ".py",
   "mimetype": "text/x-python",
   "name": "python",
   "nbconvert_exporter": "python",
   "pygments_lexer": "ipython3",
   "version": "3.7.6"
  }
 },
 "nbformat": 4,
 "nbformat_minor": 4
}
